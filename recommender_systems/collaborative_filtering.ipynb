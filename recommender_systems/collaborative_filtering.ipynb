{
 "cells": [
  {
   "cell_type": "markdown",
   "metadata": {
    "id": "QMnJ9-93s4VF"
   },
   "source": [
    "## Recommendations with MovieTweetings: Collaborative Filtering\n",
    "\n",
    "One of the most popular methods for making recommendations is **collaborative filtering**.  In collaborative filtering, you are using the collaboration of user-item recommendations to assist in making new recommendations.  \n",
    "\n",
    "There are two main methods of performing collaborative filtering:\n",
    "\n",
    "1. **Neighborhood-Based Collaborative Filtering**, which is based on the idea that we can either correlate items that are similar to provide recommendations or we can correlate users to one another to provide recommendations.\n",
    "\n",
    "2. **Model Based Collaborative Filtering**, which is based on the idea that we can use machine learning and other mathematical models to understand the relationships that exist amongst items and users to predict ratings and provide ratings.\n",
    "\n",
    "\n",
    "In this notebook, you will be working on performing **neighborhood-based collaborative filtering**.  There are two main methods for performing collaborative filtering:\n",
    "\n",
    "1. **User-based collaborative filtering:** In this type of recommendation, users related to the user you would like to make recommendations for are used to create a recommendation.\n",
    "\n",
    "2. **Item-based collaborative filtering:** In this type of recommendation, first you need to find the items that are most related to each other item (based on similar ratings).  Then you can use the ratings of an individual on those similar items to understand if a user will like the new item.\n",
    "\n",
    "In this notebook you will be implementing **user-based collaborative filtering**.  However, it is easy to extend this approach to make recommendations using **item-based collaborative filtering**.  First, let's read in our data and necessary libraries.\n",
    "\n",
    "**NOTE**: Because of the size of the datasets, some of your code cells here will take a while to execute, so be patient!"
   ]
  },
  {
   "cell_type": "code",
   "execution_count": 1,
   "metadata": {
    "id": "Qb2Yol0qs4VL"
   },
   "outputs": [],
   "source": [
    "import numpy as np\n",
    "import pandas as pd"
   ]
  },
  {
   "cell_type": "code",
   "execution_count": 3,
   "metadata": {
    "scrolled": true
   },
   "outputs": [
    {
     "data": {
      "text/html": [
       "<div>\n",
       "<style scoped>\n",
       "    .dataframe tbody tr th:only-of-type {\n",
       "        vertical-align: middle;\n",
       "    }\n",
       "\n",
       "    .dataframe tbody tr th {\n",
       "        vertical-align: top;\n",
       "    }\n",
       "\n",
       "    .dataframe thead th {\n",
       "        text-align: right;\n",
       "    }\n",
       "</style>\n",
       "<table border=\"1\" class=\"dataframe\">\n",
       "  <thead>\n",
       "    <tr style=\"text-align: right;\">\n",
       "      <th></th>\n",
       "      <th>user_id</th>\n",
       "      <th>movie_id</th>\n",
       "      <th>rating</th>\n",
       "      <th>timestamp</th>\n",
       "      <th>date</th>\n",
       "      <th>month_1</th>\n",
       "      <th>month_2</th>\n",
       "      <th>month_3</th>\n",
       "      <th>month_4</th>\n",
       "      <th>month_5</th>\n",
       "      <th>...</th>\n",
       "      <th>month_9</th>\n",
       "      <th>month_10</th>\n",
       "      <th>month_11</th>\n",
       "      <th>month_12</th>\n",
       "      <th>year_2013</th>\n",
       "      <th>year_2014</th>\n",
       "      <th>year_2015</th>\n",
       "      <th>year_2016</th>\n",
       "      <th>year_2017</th>\n",
       "      <th>year_2018</th>\n",
       "    </tr>\n",
       "  </thead>\n",
       "  <tbody>\n",
       "    <tr>\n",
       "      <th>0</th>\n",
       "      <td>1</td>\n",
       "      <td>68646</td>\n",
       "      <td>10</td>\n",
       "      <td>1381620027</td>\n",
       "      <td>2013-10-12 23:20:27</td>\n",
       "      <td>0</td>\n",
       "      <td>0</td>\n",
       "      <td>0</td>\n",
       "      <td>0</td>\n",
       "      <td>0</td>\n",
       "      <td>...</td>\n",
       "      <td>0</td>\n",
       "      <td>1</td>\n",
       "      <td>0</td>\n",
       "      <td>0</td>\n",
       "      <td>1</td>\n",
       "      <td>0</td>\n",
       "      <td>0</td>\n",
       "      <td>0</td>\n",
       "      <td>0</td>\n",
       "      <td>0</td>\n",
       "    </tr>\n",
       "    <tr>\n",
       "      <th>1</th>\n",
       "      <td>1</td>\n",
       "      <td>113277</td>\n",
       "      <td>10</td>\n",
       "      <td>1379466669</td>\n",
       "      <td>2013-09-18 01:11:09</td>\n",
       "      <td>0</td>\n",
       "      <td>0</td>\n",
       "      <td>0</td>\n",
       "      <td>0</td>\n",
       "      <td>0</td>\n",
       "      <td>...</td>\n",
       "      <td>0</td>\n",
       "      <td>0</td>\n",
       "      <td>0</td>\n",
       "      <td>0</td>\n",
       "      <td>1</td>\n",
       "      <td>0</td>\n",
       "      <td>0</td>\n",
       "      <td>0</td>\n",
       "      <td>0</td>\n",
       "      <td>0</td>\n",
       "    </tr>\n",
       "    <tr>\n",
       "      <th>2</th>\n",
       "      <td>2</td>\n",
       "      <td>422720</td>\n",
       "      <td>8</td>\n",
       "      <td>1412178746</td>\n",
       "      <td>2014-10-01 15:52:26</td>\n",
       "      <td>0</td>\n",
       "      <td>0</td>\n",
       "      <td>0</td>\n",
       "      <td>0</td>\n",
       "      <td>0</td>\n",
       "      <td>...</td>\n",
       "      <td>0</td>\n",
       "      <td>1</td>\n",
       "      <td>0</td>\n",
       "      <td>0</td>\n",
       "      <td>0</td>\n",
       "      <td>1</td>\n",
       "      <td>0</td>\n",
       "      <td>0</td>\n",
       "      <td>0</td>\n",
       "      <td>0</td>\n",
       "    </tr>\n",
       "    <tr>\n",
       "      <th>3</th>\n",
       "      <td>2</td>\n",
       "      <td>454876</td>\n",
       "      <td>8</td>\n",
       "      <td>1394818630</td>\n",
       "      <td>2014-03-14 17:37:10</td>\n",
       "      <td>0</td>\n",
       "      <td>0</td>\n",
       "      <td>0</td>\n",
       "      <td>0</td>\n",
       "      <td>0</td>\n",
       "      <td>...</td>\n",
       "      <td>0</td>\n",
       "      <td>0</td>\n",
       "      <td>0</td>\n",
       "      <td>0</td>\n",
       "      <td>0</td>\n",
       "      <td>1</td>\n",
       "      <td>0</td>\n",
       "      <td>0</td>\n",
       "      <td>0</td>\n",
       "      <td>0</td>\n",
       "    </tr>\n",
       "    <tr>\n",
       "      <th>4</th>\n",
       "      <td>2</td>\n",
       "      <td>790636</td>\n",
       "      <td>7</td>\n",
       "      <td>1389963947</td>\n",
       "      <td>2014-01-17 13:05:47</td>\n",
       "      <td>0</td>\n",
       "      <td>0</td>\n",
       "      <td>0</td>\n",
       "      <td>0</td>\n",
       "      <td>0</td>\n",
       "      <td>...</td>\n",
       "      <td>0</td>\n",
       "      <td>0</td>\n",
       "      <td>0</td>\n",
       "      <td>0</td>\n",
       "      <td>0</td>\n",
       "      <td>1</td>\n",
       "      <td>0</td>\n",
       "      <td>0</td>\n",
       "      <td>0</td>\n",
       "      <td>0</td>\n",
       "    </tr>\n",
       "  </tbody>\n",
       "</table>\n",
       "<p>5 rows × 23 columns</p>\n",
       "</div>"
      ],
      "text/plain": [
       "   user_id  movie_id  rating   timestamp                 date  month_1  \\\n",
       "0        1     68646      10  1381620027  2013-10-12 23:20:27        0   \n",
       "1        1    113277      10  1379466669  2013-09-18 01:11:09        0   \n",
       "2        2    422720       8  1412178746  2014-10-01 15:52:26        0   \n",
       "3        2    454876       8  1394818630  2014-03-14 17:37:10        0   \n",
       "4        2    790636       7  1389963947  2014-01-17 13:05:47        0   \n",
       "\n",
       "   month_2  month_3  month_4  month_5  ...  month_9  month_10  month_11  \\\n",
       "0        0        0        0        0  ...        0         1         0   \n",
       "1        0        0        0        0  ...        0         0         0   \n",
       "2        0        0        0        0  ...        0         1         0   \n",
       "3        0        0        0        0  ...        0         0         0   \n",
       "4        0        0        0        0  ...        0         0         0   \n",
       "\n",
       "   month_12  year_2013  year_2014  year_2015  year_2016  year_2017  year_2018  \n",
       "0         0          1          0          0          0          0          0  \n",
       "1         0          1          0          0          0          0          0  \n",
       "2         0          0          1          0          0          0          0  \n",
       "3         0          0          1          0          0          0          0  \n",
       "4         0          0          1          0          0          0          0  \n",
       "\n",
       "[5 rows x 23 columns]"
      ]
     },
     "execution_count": 3,
     "metadata": {},
     "output_type": "execute_result"
    }
   ],
   "source": [
    "# Read the datasets\n",
    "movies = pd.read_csv('movies_clean.csv', index_col='movie_id')\n",
    "del movies['Unnamed: 0']\n",
    "\n",
    "reviews = pd.read_csv('reviews_clean.csv', index_col=0)\n",
    "reviews.head()"
   ]
  },
  {
   "cell_type": "markdown",
   "metadata": {
    "id": "W3Obyl_ms4VN"
   },
   "source": [
    "### Measures of Similarity\n",
    "\n",
    "When using **neighborhood** based collaborative filtering, it is important to understand how to measure the similarity of users or items to one another.  \n",
    "\n",
    "There are a number of ways in which we might measure the similarity between two vectors (which might be two users or two items).  In this notebook, we will look specifically at two measures used to compare vectors:\n",
    "\n",
    "* **Pearson's correlation coefficient**\n",
    "\n",
    "Pearson's correlation coefficient is a measure of the strength and direction of a linear relationship. The value for this coefficient is a value between -1 and 1 where -1 indicates a strong, negative linear relationship and 1 indicates a strong, positive linear relationship. \n",
    "\n",
    "If we have two vectors x and y, we can define the correlation between the vectors as:\n",
    "\n",
    "\n",
    "$$CORR(x, y) = \\frac{\\text{COV}(x, y)}{\\text{STDEV}(x)\\text{ }\\text{STDEV}(y)}$$\n",
    "\n",
    "where \n",
    "\n",
    "$$\\text{STDEV}(x) = \\sqrt{\\frac{1}{n-1}\\sum_{i=1}^{n}(x_i - \\bar{x})^2}$$\n",
    "\n",
    "and \n",
    "\n",
    "$$\\text{COV}(x, y) = \\frac{1}{n-1}\\sum_{i=1}^{n}(x_i - \\bar{x})(y_i - \\bar{y})$$\n",
    "\n",
    "where n is the length of the vector, which must be the same for both x and y and $\\bar{x}$ is the mean of the observations in the vector.  \n",
    "\n",
    "We can use the correlation coefficient to indicate how alike two vectors are to one another, where the closer to 1 the coefficient, the more alike the vectors are to one another.  There are some potential downsides to using this metric as a measure of similarity.  You will see some of these throughout this workbook.\n",
    "\n",
    "\n",
    "* **Euclidean distance**\n",
    "\n",
    "Euclidean distance is a measure of the straightline distance from one vector to another.  Because this is a measure of distance, larger values are an indication that two vectors are different from one another (which is different than Pearson's correlation coefficient).\n",
    "\n",
    "Specifically, the euclidean distance between two vectors x and y is measured as:\n",
    "\n",
    "$$ \\text{EUCL}(x, y) = \\sqrt{\\sum_{i=1}^{n}(x_i - y_i)^2}$$\n",
    "\n",
    "Different from the correlation coefficient, no scaling is performed in the denominator.  Therefore, you need to make sure all of your data are on the same scale when using this metric.\n",
    "\n",
    "**Note:** Because measuring similarity is often based on looking at the distance between vectors, it is important in these cases to scale your data or to have all data be in the same scale.  In this case, we will not need to scale data because they are all on a 10 point scale, but it is always something to keep in mind!\n",
    "\n",
    "------------\n",
    "\n",
    "### User-Item Matrix\n",
    "\n",
    "In order to calculate the similarities, it is common to put values in a matrix.  In this matrix, users are identified by each row, and items are represented by columns.  \n",
    "\n",
    "\n"
   ]
  },
  {
   "cell_type": "markdown",
   "metadata": {
    "id": "fMIncMDSs4VQ"
   },
   "source": [
    "In the above matrix, you can see that **User 1** and **User 2** both used **Item 1**, and **User 2**, **User 3**, and **User 4** all used **Item 2**.  However, there are also a large number of missing values in the matrix for users who haven't used a particular item.  A matrix with many missing values (like the one above) is considered **sparse**.\n",
    "\n",
    "Our first goal for this notebook is to create the above matrix with the **reviews** dataset.  However, instead of 1 values in each cell, you should have the actual rating.  \n",
    "\n",
    "The users will indicate the rows, and the movies will exist across the columns. To create the user-item matrix, we only need the first three columns of the **reviews** dataframe, which you can see by running the cell below."
   ]
  },
  {
   "cell_type": "code",
   "execution_count": 2,
   "metadata": {
    "id": "7X8ly29ys4VR"
   },
   "outputs": [
    {
     "name": "stdout",
     "output_type": "stream",
     "text": [
      "<class 'pandas.core.frame.DataFrame'>\n",
      "RangeIndex: 712337 entries, 0 to 712336\n",
      "Data columns (total 23 columns):\n",
      " #   Column     Non-Null Count   Dtype \n",
      "---  ------     --------------   ----- \n",
      " 0   user_id    712337 non-null  int64 \n",
      " 1   movie_id   712337 non-null  int64 \n",
      " 2   rating     712337 non-null  int64 \n",
      " 3   timestamp  712337 non-null  int64 \n",
      " 4   date       712337 non-null  object\n",
      " 5   month_1    712337 non-null  int64 \n",
      " 6   month_2    712337 non-null  int64 \n",
      " 7   month_3    712337 non-null  int64 \n",
      " 8   month_4    712337 non-null  int64 \n",
      " 9   month_5    712337 non-null  int64 \n",
      " 10  month_6    712337 non-null  int64 \n",
      " 11  month_7    712337 non-null  int64 \n",
      " 12  month_8    712337 non-null  int64 \n",
      " 13  month_9    712337 non-null  int64 \n",
      " 14  month_10   712337 non-null  int64 \n",
      " 15  month_11   712337 non-null  int64 \n",
      " 16  month_12   712337 non-null  int64 \n",
      " 17  year_2013  712337 non-null  int64 \n",
      " 18  year_2014  712337 non-null  int64 \n",
      " 19  year_2015  712337 non-null  int64 \n",
      " 20  year_2016  712337 non-null  int64 \n",
      " 21  year_2017  712337 non-null  int64 \n",
      " 22  year_2018  712337 non-null  int64 \n",
      "dtypes: int64(22), object(1)\n",
      "memory usage: 125.0+ MB\n"
     ]
    }
   ],
   "source": [
    "reviews.info()"
   ]
  },
  {
   "cell_type": "markdown",
   "metadata": {
    "id": "Go_5HkJ4s4VS"
   },
   "source": [
    "### Creating the User-Item Matrix\n",
    "\n",
    "In order to create the user-items matrix (like the one above), I personally started by using a [pivot table](https://pandas.pydata.org/pandas-docs/stable/generated/pandas.pivot_table.html). \n",
    "\n",
    "However, I quickly ran into a memory error (a common theme throughout this notebook).  I will help you navigate around many of the errors I had, and achieve useful collaborative filtering results! \n",
    "\n",
    "_____\n",
    "\n",
    "`1.` Create a matrix where the users are the rows, the movies are the columns, and the ratings exist in each cell, or a NaN exists in cells where a user hasn't rated a particular movie. If you get a memory error (like I did), [this link here](https://stackoverflow.com/questions/39648991/pandas-dataframe-pivot-memory-error) might help you!"
   ]
  },
  {
   "cell_type": "code",
   "execution_count": 3,
   "metadata": {
    "id": "7SYZCiv1s4VT"
   },
   "outputs": [
    {
     "name": "stdout",
     "output_type": "stream",
     "text": [
      "matrix_shape = (53968, 31245)\n"
     ]
    }
   ],
   "source": [
    "# Create user-by-item matrix, of shape (#users, #movies), \n",
    "matrix_shape = (len(reviews['user_id'].unique()), movies.shape[0]) # (53,968, 31,245) = 1,686,230,160\n",
    "print('matrix_shape =', matrix_shape)\n",
    "\n",
    "\n",
    "# user-item matrix will contain only int values from 0 to 10, or NAN.\n",
    "# make dtype=int8 to fit into memory.\n",
    "user_item_matrix = np.full(shape=matrix_shape, fill_value=-1, dtype=np.int8)\n",
    "groups = reviews.groupby('user_id').indices # type=dict\n",
    "\n",
    "\n",
    "movies_indices = movies.index.to_numpy()\n",
    "# Util function that maps (actual indices) to (positional indices) for iloc.\n",
    "def get_i_idx(values):\n",
    "    return [np.where(movies_indices == val)[0][0] for val in values]\n",
    "\n",
    "\n",
    "# fill the user_item_matrix\n",
    "for uid in groups:\n",
    "    user_movies = groups[uid].tolist() # list of positional indices of user_movies.\n",
    "    # Make sure that the list is not empty.\n",
    "    if user_movies:\n",
    "        # get movies actual ids.\n",
    "        movies_ids = reviews.iloc[user_movies, 1].tolist() # 1 is the index of column 'movie_id'\n",
    "        # fill this user row and movies positional indices in the matrix with ratings values.\n",
    "        # uid-1 because users ids start from 1 not 0.\n",
    "        user_item_matrix[uid-1, get_i_idx(movies_ids)] = reviews.iloc[user_movies, 2].tolist()"
   ]
  },
  {
   "cell_type": "code",
   "execution_count": 6,
   "metadata": {
    "id": "JktTSYLZs4VX"
   },
   "outputs": [],
   "source": [
    "def get_user_row(uid, replace_val=np.nan):\n",
    "    result = user_item_matrix[uid-1].astype(float)\n",
    "    result[result == -1] = replace_val\n",
    "    return result\n",
    "\n",
    "# Create a dictionary with users and corresponding movies seen\n",
    "def movies_watched(user_id):\n",
    "    '''\n",
    "    INPUT:\n",
    "    user_id - the user_id of an individual as int\n",
    "    OUTPUT:\n",
    "    movies - an array of movies the user has watched\n",
    "    '''\n",
    "    # Implement your code here\n",
    "    movies = groups.get(user_id)\n",
    "    if movies is not None:\n",
    "        movies = movies.tolist()\n",
    "        movies = reviews.iloc[movies, 1].tolist()\n",
    "    else:\n",
    "        movies = []\n",
    "    return movies\n",
    "\n",
    "\n",
    "def create_user_movie_dict():\n",
    "    '''\n",
    "    INPUT: None\n",
    "    OUTPUT: movies_seen - a dictionary where each key is a user_id and the value is an array of movie_ids\n",
    "    \n",
    "    Creates the movies_seen dictionary\n",
    "    '''\n",
    "    # Implement your code here\n",
    "    movies_seen = {k:movies_watched(k) for k in groups}\n",
    "    return movies_seen\n",
    "\n",
    "movies_seen = create_user_movie_dict()"
   ]
  },
  {
   "cell_type": "code",
   "execution_count": 7,
   "metadata": {},
   "outputs": [
    {
     "data": {
      "text/plain": [
       "53968"
      ]
     },
     "execution_count": 7,
     "metadata": {},
     "output_type": "execute_result"
    }
   ],
   "source": [
    "len(movies_seen)"
   ]
  },
  {
   "cell_type": "markdown",
   "metadata": {
    "id": "GQU8KNuys4VY"
   },
   "source": [
    "`3.` If a user hasn't rated more than 2 movies, we consider these users \"too new\".  Create a new dictionary that only contains users who have rated more than 2 movies.  This dictionary will be used for all the final steps of this workbook."
   ]
  },
  {
   "cell_type": "code",
   "execution_count": 8,
   "metadata": {
    "id": "A7tfCXzys4VY"
   },
   "outputs": [],
   "source": [
    "# Remove individuals who have watched 2 or fewer movies - don't have enough data to make recs\n",
    "def create_movies_to_analyze(movies_seen, lower_bound=2):\n",
    "    '''\n",
    "    INPUT:  \n",
    "    movies_seen - a dictionary where each key is a user_id and the value is an array of movie_ids\n",
    "    lower_bound - (an int) a user must have more movies seen than the lower bound to be added to the movies_to_analyze dictionary\n",
    "\n",
    "    OUTPUT: \n",
    "    movies_to_analyze - a dictionary where each key is a user_id and the value is an array of movie_ids\n",
    "    \n",
    "    The movies_seen and movies_to_analyze dictionaries should be the same except that the output dictionary has removed \n",
    "    \n",
    "    '''\n",
    "    # Implement your code here\n",
    "    movies_to_analyze = {k: v for k, v in movies_seen.items() if len(v) > lower_bound}\n",
    "    return movies_to_analyze\n",
    "\n",
    "movies_to_analyze = create_movies_to_analyze(movies_seen)"
   ]
  },
  {
   "cell_type": "code",
   "execution_count": 9,
   "metadata": {},
   "outputs": [
    {
     "data": {
      "text/plain": [
       "23"
      ]
     },
     "execution_count": 9,
     "metadata": {},
     "output_type": "execute_result"
    }
   ],
   "source": [
    "len(movies_to_analyze[2])"
   ]
  },
  {
   "cell_type": "markdown",
   "metadata": {
    "id": "_1wrDakas4Va"
   },
   "source": [
    "### Calculating User Similarities\n",
    "\n",
    "Now that you have set up the **movies_to_analyze** dictionary, it is time to take a closer look at the similarities between users. Below is the pseudocode for how I thought about determining the similarity between users:\n",
    "\n",
    "```\n",
    "for user1 in movies_to_analyze\n",
    "    for user2 in movies_to_analyze\n",
    "        see how many movies match between the two users\n",
    "        if more than two movies in common\n",
    "            pull the overlapping movies\n",
    "            compute the distance/similarity metric between ratings on the same movies for the two users\n",
    "            store the users and the distance metric\n",
    "```\n",
    "\n",
    "However, this took a very long time to run, and other methods of performing these operations did not fit on the workspace memory!\n",
    "\n",
    "Therefore, rather than creating a dataframe with all possible pairings of users in our data, your task for this question is to look at a few specific examples of the correlation between ratings given by two users.  For this question consider you want to compute the [correlation](https://pandas.pydata.org/pandas-docs/stable/generated/pandas.DataFrame.corr.html) between users.\n",
    "\n",
    "`4.` Using the **movies_to_analyze** dictionary and **user_by_movie** dataframe, create a function that computes the correlation between the ratings of similar movies for two users.  Then use your function to compare your results to ours using the tests below.  "
   ]
  },
  {
   "cell_type": "code",
   "execution_count": 11,
   "metadata": {
    "id": "hYNS3edws4Va"
   },
   "outputs": [],
   "source": [
    "def get_common_movies(user1, user2):\n",
    "    user1_movies = ~np.isnan(get_user_row(user1))\n",
    "    user2_movies = ~np.isnan(get_user_row(user2))\n",
    "    common_movies = user1_movies & user2_movies\n",
    "    return common_movies\n",
    "\n",
    "def compute_correlation(user1, user2):\n",
    "    '''\n",
    "    INPUT\n",
    "    user1 - int user_id\n",
    "    user2 - int user_id\n",
    "    OUTPUT\n",
    "    the correlation between the matching ratings between the two users\n",
    "    '''\n",
    "    # Implement your code here\n",
    "    common_movies = get_common_movies(user1, user2)\n",
    "    corr = np.corrcoef(user_item_matrix[user1-1, common_movies], user_item_matrix[user2-1, common_movies])\n",
    "    return corr[1, 0] #return the correlation"
   ]
  },
  {
   "cell_type": "markdown",
   "metadata": {
    "id": "gkNp1_zHs4Vc"
   },
   "source": [
    "### Why the NaN's?\n",
    "\n",
    "If the function you wrote passed all of the tests, then you have correctly set up your function to calculate the correlation between any two users.  \n",
    "\n",
    "`5.` But one question is, why are we still obtaining **NaN** values?  As you can see in the code cell above, users 7 and 8022 have a correlation of **NaN**. Why?"
   ]
  },
  {
   "cell_type": "markdown",
   "metadata": {
    "id": "qjoJA1CBs4Vc"
   },
   "source": [
    "Think and write your ideas here about why these NaNs exist, and use the cells below to do some coding to validate your thoughts. You can check other pairs of users and see that there are actually many NaNs in our data. These NaN's ultimately make the correlation coefficient a less than optimal measure of similarity between two users.\n",
    "\n",
    "```\n",
    "In the denominator of the correlation coefficient, we calculate the standard deviation for each user's ratings.  The ratings for two users share the same ratings on the matching movies.  Therefore, the standard deviation is 0.  Because a 0 is in the denominator of the correlation coefficient, we end up with a **NaN** correlation coefficient.  Therefore, a different approach is likely better for this particular situation.\n",
    "```"
   ]
  },
  {
   "cell_type": "code",
   "execution_count": 13,
   "metadata": {
    "id": "4jimmsiKs4Vd"
   },
   "outputs": [],
   "source": [
    "# Which movies did both user 2 and user 104 see?\n",
    "user2_movies = ~np.isnan(get_user_row(2))\n",
    "user104_movies = ~np.isnan(get_user_row(104))\n",
    "common_movies = user2_movies & user104_movies"
   ]
  },
  {
   "cell_type": "code",
   "execution_count": 14,
   "metadata": {
    "id": "Yq0Tfjnns4Vd"
   },
   "outputs": [
    {
     "name": "stdout",
     "output_type": "stream",
     "text": [
      "[8 8 8 8]\n",
      "[9 7 7 9]\n"
     ]
    }
   ],
   "source": [
    "# What were the ratings for each user on those movies?\n",
    "print(user_item_matrix[1, common_movies])\n",
    "print(user_item_matrix[103, common_movies])"
   ]
  },
  {
   "cell_type": "markdown",
   "metadata": {
    "id": "pCw3FiKns4Ve"
   },
   "source": [
    "`6.` Because the correlation coefficient proved to be less than optimal for relating user ratings to one another, we could instead calculate the euclidean distance between the ratings.  I found [this post](https://stackoverflow.com/questions/1401712/how-can-the-euclidean-distance-be-calculated-with-numpy) particularly helpful when I was setting up my function.  This function should be very similar to your previous function.  When you feel confident with your function, test it against our results."
   ]
  },
  {
   "cell_type": "code",
   "execution_count": 23,
   "metadata": {
    "id": "3aD1PeZPs4Ve"
   },
   "outputs": [],
   "source": [
    "def _euclidean_dist(v1, v2):\n",
    "    return np.linalg.norm(v1 - v2)\n",
    "\n",
    "\n",
    "def compute_euclidean_dist(user1, user2):\n",
    "    '''\n",
    "    INPUT\n",
    "    user1 - int user_id\n",
    "    user2 - int user_id\n",
    "    OUTPUT\n",
    "    the euclidean distance between user1 and user2\n",
    "    '''\n",
    "    # Implement your code here\n",
    "    common_movies = get_common_movies(user1, user2)\n",
    "    # make sure that there is at least 1 movie in common between user1 and user2\n",
    "    if common_movies.sum() > 0:\n",
    "        dist = _euclidean_dist(user_item_matrix[user1-1, common_movies], user_item_matrix[user2-1, common_movies])\n",
    "        return dist\n",
    "    return np.nan #return the euclidean distance"
   ]
  },
  {
   "cell_type": "code",
   "execution_count": 27,
   "metadata": {},
   "outputs": [
    {
     "name": "stdout",
     "output_type": "stream",
     "text": [
      "nan\n",
      "[]\n",
      "[]\n"
     ]
    }
   ],
   "source": [
    "print(compute_euclidean_dist(35, 51))\n",
    "cmvs = get_common_movies(35, 51)\n",
    "print(user_item_matrix[34, cmvs])\n",
    "print(user_item_matrix[50, cmvs])"
   ]
  },
  {
   "cell_type": "code",
   "execution_count": 30,
   "metadata": {},
   "outputs": [
    {
     "name": "stdout",
     "output_type": "stream",
     "text": [
      "[2172584, 2345737]\n",
      "[25316, 29843, 31381, 34248, 34583, 37017, 38109, 38787, 39694, 42004, 44706, 44937, 48947, 51658, 57590, 68646, 82766, 105695, 369610, 473075, 816442, 975645, 1024648, 1045658, 1126590, 1195478, 1210819, 1216492, 1232829, 1343092, 1616195, 1623205, 1661199, 1670345, 1907668, 1911644, 1979388, 1980929, 2004420, 2023587, 2083383, 2180411, 2278388, 2294629, 2302755]\n"
     ]
    }
   ],
   "source": [
    "print(movies_seen[35])\n",
    "print(movies_seen[51])\n",
    "\n",
    "for m in movies_seen[35]:\n",
    "    if m in movies_seen[51]:\n",
    "        print(m)"
   ]
  },
  {
   "cell_type": "code",
   "execution_count": 38,
   "metadata": {},
   "outputs": [
    {
     "name": "stdout",
     "output_type": "stream",
     "text": [
      "True\n",
      "False\n"
     ]
    }
   ],
   "source": [
    "# Important when comparing nans\n",
    "c = np.nan\n",
    "print(c != np.nan)\n",
    "print(not np.isnan(c))"
   ]
  },
  {
   "cell_type": "markdown",
   "metadata": {
    "id": "kjs66kL8s4Vg"
   },
   "source": [
    "### Using the Nearest Neighbors to Make Recommendations\n",
    "\n",
    "In the previous question, you read in **df_dists**. Therefore, you have a measure of distance between each user and every other user. This dataframe holds every possible pairing of users, as well as the corresponding euclidean distance.\n",
    "\n",
    "Because of the **NaN** values that exist within the correlations of the matching ratings for many pairs of users, as we discussed above, we will proceed using **df_dists**. You will want to find the users that are 'nearest' each user.  Then you will want to find the movies the closest neighbors have liked to recommend to each user.\n",
    "\n",
    "I made use of the following objects:\n",
    "\n",
    "* df_dists (to obtain the neighbors)\n",
    "* user_items (to obtain the movies the neighbors and users have rated)\n",
    "* movies (to obtain the names of the movies)\n",
    "\n",
    "`7.` Complete the functions below, which allow you to find the recommendations for any user.  There are five functions which you will need:\n",
    "\n",
    "* **find_closest_neighbors** - this returns a list of user_ids from closest neighbor to farthest neighbor using euclidean distance\n",
    "\n",
    "\n",
    "* **movies_liked** - returns an array of movie_ids\n",
    "\n",
    "\n",
    "* **movie_names** - takes the output of movies_liked and returns a list of movie names associated with the movie_ids\n",
    "\n",
    "\n",
    "* **make_recommendations** - takes a user id and goes through closest neighbors to return a list of movie names as recommendations\n",
    "\n",
    "\n",
    "* **all_recommendations** = loops through every user and returns a dictionary of with the key as a user_id and the value as a list of movie recommendations"
   ]
  },
  {
   "cell_type": "code",
   "execution_count": 52,
   "metadata": {
    "id": "H7jjJ7Dps4Vg"
   },
   "outputs": [
    {
     "name": "stdout",
     "output_type": "stream",
     "text": [
      "dists = [0.0, 0.0, 0.0, 0.0, 0.0, 0.0, 0.0, 0.0, 0.0, 0.0, 0.0, 0.0, 0.0, 0.0, 0.0, 0.0, 0.0, 0.0, 0.0, 0.0]\n",
      "nn = [53967, 53951, 53937, 53875, 53822, 53793, 53772, 53766, 53751, 53744, 53695, 53591, 53567, 53520, 53458, 53420, 53360, 53331, 53316, 53279]\n",
      "dists = [0.0, 0.0, 0.0, 0.0, 0.0, 0.0, 0.0, 0.0, 0.0, 0.0, 0.0, 0.0, 0.0, 0.0, 0.0, 0.0, 0.0, 0.0, 0.0, 0.0]\n",
      "nn = [53958, 53835, 53755, 53583, 53271, 53161, 53129, 53069, 53008, 52863, 52823, 52791, 52589, 52586, 52556, 52245, 52161, 52156, 51959, 51948]\n",
      "dists = [0.0, 0.0, 0.0, 0.0, 0.0, 0.0, 0.0, 0.0, 0.0, 0.0, 0.0, 0.0, 0.0, 0.0, 0.0, 0.0, 0.0, 0.0, 0.0, 0.0]\n",
      "nn = [53881, 53714, 53447, 53180, 53086, 52966, 52883, 52866, 52604, 52575, 52537, 52491, 52388, 52161, 52106, 52100, 52095, 51806, 51755, 51599]\n",
      "dists = [0.0, 0.0, 0.0, 0.0, 0.0, 0.0, 0.0, 0.0, 0.0, 0.0, 0.0, 0.0, 0.0, 0.0, 0.0, 0.0, 0.0, 0.0, 0.0, 0.0]\n",
      "nn = [53801, 51382, 50210, 48352, 47911, 47796, 47028, 44135, 39111, 39085, 38911, 38352, 37371, 34403, 32568, 28157, 27838, 26541, 24816, 24253]\n",
      "dists = [0.0, 0.0, 0.0, 0.0, 0.0, 0.0, 0.0, 0.0, 0.0, 0.0, 0.0, 0.0, 0.0, 0.0, 0.0, 0.0, 0.0, 0.0, 0.0, 0.0]\n",
      "nn = [53599, 53581, 53447, 53138, 53006, 53002, 52996, 52971, 52784, 52388, 52374, 51318, 51225, 50975, 50655, 50381, 50158, 49851, 49798, 49209]\n",
      "dists = [0.0, 0.0, 0.0, 0.0, 0.0, 0.0, 0.0, 0.0, 0.0, 0.0, 0.0, 0.0, 0.0, 0.0, 0.0, 0.0, 0.0, 0.0, 0.0, 0.0]\n",
      "nn = [53580, 53447, 53093, 52842, 52797, 52599, 52575, 52527, 51869, 51553, 51529, 51382, 51021, 50979, 50819, 50809, 50366, 49882, 49840, 49337]\n",
      "dists = [0.0, 0.0, 0.0, 0.0, 0.0, 0.0, 0.0, 0.0, 0.0, 0.0, 0.0, 0.0, 0.0, 0.0, 0.0, 0.0, 0.0, 0.0, 0.0, 0.0]\n",
      "nn = [53862, 53788, 53778, 53696, 53606, 53442, 53370, 53353, 53305, 53270, 53190, 53121, 53118, 52982, 52900, 52853, 52851, 52761, 52756, 52649]\n",
      "dists = [0.0, 0.0, 0.0, 0.0, 0.0, 0.0, 0.0, 0.0, 0.0, 0.0, 0.0, 0.0, 0.0, 0.0, 0.0, 0.0, 0.0, 0.0, 0.0, 0.0]\n",
      "nn = [53939, 53896, 53835, 53695, 53638, 53599, 53590, 53553, 53496, 53402, 53362, 53339, 53338, 53263, 53140, 53076, 53067, 53057, 53032, 52930]\n",
      "dists = [0.0, 0.0, 0.0, 0.0, 0.0, 0.0, 0.0, 0.0, 0.0, 0.0, 0.0, 0.0, 0.0, 0.0, 0.0, 0.0, 0.0, 0.0, 0.0, 0.0]\n",
      "nn = [53642, 53596, 53485, 53361, 53337, 53263, 53150, 53046, 52949, 52904, 52744, 52713, 52645, 52641, 52486, 52475, 52470, 52467, 52380, 52311]\n",
      "dists = [0.0, 0.0, 0.0, 0.0, 0.0, 0.0, 0.0, 0.0, 0.0, 1.0, 1.0, 1.0, 1.0, 1.0, 1.0, 1.0, 1.0, 1.0, 1.0, 1.0]\n",
      "nn = [51042, 49588, 38931, 38099, 37967, 36579, 33995, 27763, 26, 50553, 46680, 43166, 41575, 40425, 39694, 39594, 34294, 29804, 29784, 29247]\n"
     ]
    }
   ],
   "source": [
    "def find_closest_neighbors(user, k=10):\n",
    "    '''\n",
    "    INPUT:\n",
    "        user - (int) the user_id of the individual you want to find the closest users\n",
    "    OUTPUT:\n",
    "        closest_neighbors - an array of the id's of the users sorted from closest to farthest away\n",
    "    '''\n",
    "    \n",
    "    # keep track the nearest neighbours\n",
    "    nn    = [0] * k\n",
    "    # dists list to track the least k distances.\n",
    "    dists = [1000] * k\n",
    "    \n",
    "    user_row = get_user_row(user, 0)\n",
    "    n = user_item_matrix.shape[0]\n",
    "    \n",
    "    for i in range(1, n+1):\n",
    "        # uncomment the next line to monitor the progress.\n",
    "        # print('progress =', i*100 / n, '%')\n",
    "        \n",
    "        # calculate the distance and make sure != nan \n",
    "        dist = compute_euclidean_dist(user, i)\n",
    "        if not np.isnan(dist):\n",
    "            # to keep dists list sorted ascending, just insert when find a smaller distance. \n",
    "            j = 0\n",
    "            while j < len(nn) and dist > dists[j]:\n",
    "                j += 1\n",
    "            \n",
    "            # Decide whether to replace the last dist in dists or insert a new one in the middle \n",
    "            if j < len(nn):\n",
    "                if j == len(nn) - 1:\n",
    "                    dists[-1] = dist\n",
    "                    nn[-1] = i\n",
    "                else:\n",
    "                    dists.insert(j, dist)\n",
    "                    dists = dists[:-1]\n",
    "\n",
    "                    nn.insert(j, i)\n",
    "                    nn = nn[:-1]\n",
    "    print('dists =', dists)   \n",
    "    print('nn =', nn)\n",
    "    return nn[1:k+1]\n",
    "    \n",
    "    \n",
    "def movies_liked(user_id, min_rating=7):\n",
    "    '''\n",
    "    INPUT:\n",
    "    user_id - the user_id of an individual as int\n",
    "    min_rating - the minimum rating considered while still a movie is still a \"like\" and not a \"dislike\"\n",
    "    OUTPUT:\n",
    "    movies_liked - an array of movies the user has watched and liked\n",
    "    '''\n",
    "    # Implement your code here\n",
    "    movies_liked_idx = user_item_matrix[user_id-1] >= 7\n",
    "    movies_liked = movies_indices[movies_liked_idx]\n",
    "    return movies_liked.tolist()\n",
    "\n",
    "\n",
    "def movie_names(movie_ids):\n",
    "    '''\n",
    "    INPUT\n",
    "    movie_ids - a list of movie_ids\n",
    "    OUTPUT\n",
    "    movies - a list of movie names associated with the movie_ids    \n",
    "    '''\n",
    "    # Implement your code here\n",
    "    movie_lst = movies.loc[movie_ids, 'movie'].tolist()\n",
    "    return movie_lst\n",
    "    \n",
    "    \n",
    "def make_recommendations(user, num_recs=10):\n",
    "    '''\n",
    "    INPUT:\n",
    "        user - (int) a user_id of the individual you want to make recommendations for\n",
    "        num_recs - (int) number of movies to return\n",
    "    OUTPUT:\n",
    "        recommendations - a list of movies - if there are \"num_recs\" recommendations return this many\n",
    "                          otherwise return the total number of recommendations available for the \"user\"\n",
    "                          which may just be an empty list\n",
    "    '''\n",
    "    # Implement your code here\n",
    "    nn = find_closest_neighbors(user, k=num_recs*2)\n",
    "    user_liked_movies = set(movies_liked(user, min_rating=0))\n",
    "    \n",
    "    liked_movies = []\n",
    "    for uid in nn:    \n",
    "        liked_movies.extend(movies_liked(uid))\n",
    "\n",
    "    # Make sure that the recommendations is new to the user.    \n",
    "    liked_movies = [movie for movie in liked_movies if movie not in user_liked_movies]\n",
    "    recommendations = movie_names(liked_movies)\n",
    "    return recommendations[:num_recs]\n",
    "\n",
    "\n",
    "def all_recommendations(num_recs=10):\n",
    "    '''\n",
    "    INPUT \n",
    "        num_recs (int) the (max) number of recommendations for each user\n",
    "    OUTPUT\n",
    "        all_recs - a dictionary where each key is a user_id and the value is an array of recommended movie titles\n",
    "    '''\n",
    "    # Implement your code here\n",
    "    # work on just 10 users as a POC.\n",
    "    users = list(movies_to_analyze.keys())[:10]\n",
    "    all_recs = {k:make_recommendations(k) for k in users}\n",
    "    return all_recs\n",
    "\n",
    "all_recs = all_recommendations(10)"
   ]
  },
  {
   "cell_type": "code",
   "execution_count": 49,
   "metadata": {},
   "outputs": [
    {
     "name": "stdout",
     "output_type": "stream",
     "text": [
      "user 2 watched movies = ['Marie Antoinette (2006)', 'Life of Pi (2012)', 'Dallas Buyers Club (2013)', 'World War Z (2013)', 'Lone Survivor (2013)', 'Two Lovers (2008)', 'August: Osage County (2013)', 'In the Heart of the Sea (2015)', 'Straight Outta Compton (2015)', 'Deadpool (2016)', 'Disconnect (2012)', 'Gravity (2013)', 'Captain Phillips (2013)', 'The Intouchables (2011)', 'Her (2013)', 'All Is Lost (2013)', '12 Years a Slave (2013)', 'Frozen (2013)', 'The Intern (2015)', 'Mission: Impossible - Rogue Nation (2015)', 'The Longest Ride (2015)', 'Chef (2014)', 'Spy (2015)']\n",
      "dists = [0.0, 0.0, 0.0, 0.0, 0.0, 0.0, 0.0, 0.0, 0.0, 0.0, 0.0, 0.0, 0.0, 0.0, 0.0, 0.0, 0.0, 0.0, 0.0, 0.0]\n",
      "nn = [53967, 53951, 53937, 53875, 53822, 53793, 53772, 53766, 53751, 53744, 53695, 53591, 53567, 53520, 53458, 53420, 53360, 53331, 53316, 53279]\n"
     ]
    },
    {
     "data": {
      "text/plain": [
       "['The Shawshank Redemption (1994)',\n",
       " 'Good Will Hunting (1997)',\n",
       " 'This Is the End (2013)',\n",
       " 'Movie 43 (2013)',\n",
       " 'Peeples (2013)',\n",
       " '21 & Over (2013)',\n",
       " 'Safety Not Guaranteed (2012)',\n",
       " 'The Internship (2013)',\n",
       " 'Beasts of No Nation (2015)',\n",
       " 'The Judge (2014)']"
      ]
     },
     "execution_count": 49,
     "metadata": {},
     "output_type": "execute_result"
    }
   ],
   "source": [
    "print('user 2 watched movies =', movie_names(movies_to_analyze[2]))\n",
    "# find_closest_neighbors(2)\n",
    "make_recommendations(2)"
   ]
  },
  {
   "cell_type": "code",
   "execution_count": 47,
   "metadata": {},
   "outputs": [
    {
     "name": "stdout",
     "output_type": "stream",
     "text": [
      "common movies (2, 53967) = 1\n",
      "common movies (2, 53951) = 1\n",
      "common movies (2, 53937) = 1\n",
      "common movies (2, 53875) = 1\n",
      "common movies (2, 53822) = 2\n",
      "common movies (2, 53793) = 3\n",
      "common movies (2, 53772) = 1\n",
      "common movies (2, 53766) = 1\n",
      "common movies (2, 53751) = 2\n",
      "common movies (2, 53744) = 1\n",
      "common movies (2, 53695) = 1\n",
      "common movies (2, 53591) = 1\n",
      "common movies (2, 53567) = 1\n",
      "common movies (2, 53520) = 1\n",
      "common movies (2, 53458) = 1\n",
      "common movies (2, 53420) = 1\n",
      "common movies (2, 53360) = 1\n",
      "common movies (2, 53331) = 1\n",
      "common movies (2, 53316) = 1\n",
      "common movies (2, 53279) = 1\n"
     ]
    }
   ],
   "source": [
    "nn = [53967, 53951, 53937, 53875, 53822, 53793, 53772, 53766, 53751, 53744, 53695, 53591, 53567, 53520, 53458, 53420, 53360, 53331, 53316, 53279]\n",
    "for n in nn:\n",
    "    print(f'common movies (2, {n}) =', get_common_movies(2, n).sum())"
   ]
  },
  {
   "cell_type": "code",
   "execution_count": 55,
   "metadata": {},
   "outputs": [
    {
     "name": "stdout",
     "output_type": "stream",
     "text": [
      "[2, 3, 7, 8, 9, 17, 22, 24, 25, 26]\n"
     ]
    },
    {
     "data": {
      "text/plain": [
       "['The Shawshank Redemption (1994)',\n",
       " 'Good Will Hunting (1997)',\n",
       " 'This Is the End (2013)',\n",
       " 'Movie 43 (2013)',\n",
       " 'Peeples (2013)',\n",
       " '21 & Over (2013)',\n",
       " 'Safety Not Guaranteed (2012)',\n",
       " 'The Internship (2013)',\n",
       " 'Beasts of No Nation (2015)',\n",
       " 'The Judge (2014)']"
      ]
     },
     "execution_count": 55,
     "metadata": {},
     "output_type": "execute_result"
    }
   ],
   "source": [
    "print(list(all_recs.keys()))\n",
    "\n",
    "all_recs[2]"
   ]
  },
  {
   "cell_type": "code",
   "execution_count": null,
   "metadata": {},
   "outputs": [],
   "source": []
  }
 ],
 "metadata": {
  "colab": {
   "name": "Collaborative Filtering.ipynb",
   "provenance": []
  },
  "kernelspec": {
   "display_name": "Python 3 (ipykernel)",
   "language": "python",
   "name": "python3"
  },
  "language_info": {
   "codemirror_mode": {
    "name": "ipython",
    "version": 3
   },
   "file_extension": ".py",
   "mimetype": "text/x-python",
   "name": "python",
   "nbconvert_exporter": "python",
   "pygments_lexer": "ipython3",
   "version": "3.8.10"
  },
  "toc": {
   "base_numbering": 1,
   "nav_menu": {},
   "number_sections": true,
   "sideBar": true,
   "skip_h1_title": false,
   "title_cell": "Table of Contents",
   "title_sidebar": "Contents",
   "toc_cell": false,
   "toc_position": {},
   "toc_section_display": true,
   "toc_window_display": false
  }
 },
 "nbformat": 4,
 "nbformat_minor": 1
}
