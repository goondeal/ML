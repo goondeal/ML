{
 "cells": [
  {
   "cell_type": "markdown",
   "metadata": {
    "_cell_guid": "b1076dfc-b9ad-4769-8c92-a6c4dae69d19",
    "_uuid": "8f2839f25d086af736a60e9eeb907d3b93b6e0e5",
    "execution": {
     "iopub.execute_input": "2022-09-11T16:16:13.632106Z",
     "iopub.status.busy": "2022-09-11T16:16:13.629176Z",
     "iopub.status.idle": "2022-09-11T16:16:13.648503Z",
     "shell.execute_reply": "2022-09-11T16:16:13.646878Z",
     "shell.execute_reply.started": "2022-09-11T16:16:13.631994Z"
    }
   },
   "source": [
    "### This notebook solves this kaggle [competetion](https://www.kaggle.com/c/jigsaw-toxic-comment-classification-challenge) for classifing 6 categories of toxic comments with **accuracy 94.6%** according to the evaluation metric."
   ]
  },
  {
   "cell_type": "code",
   "execution_count": 78,
   "metadata": {
    "execution": {
     "iopub.execute_input": "2022-09-11T16:45:00.318960Z",
     "iopub.status.busy": "2022-09-11T16:45:00.317881Z",
     "iopub.status.idle": "2022-09-11T16:45:00.332615Z",
     "shell.execute_reply": "2022-09-11T16:45:00.331225Z",
     "shell.execute_reply.started": "2022-09-11T16:45:00.318885Z"
    }
   },
   "outputs": [
    {
     "name": "stdout",
     "output_type": "stream",
     "text": [
      "/kaggle/input/jigsaw-toxic-comment-classification-challenge/train.csv.zip\n",
      "/kaggle/input/jigsaw-toxic-comment-classification-challenge/sample_submission.csv.zip\n",
      "/kaggle/input/jigsaw-toxic-comment-classification-challenge/test_labels.csv.zip\n",
      "/kaggle/input/jigsaw-toxic-comment-classification-challenge/test.csv.zip\n"
     ]
    }
   ],
   "source": [
    "# This Python 3 environment comes with many helpful analytics libraries installed\n",
    "# It is defined by the kaggle/python Docker image: https://github.com/kaggle/docker-python\n",
    "# For example, here's several helpful packages to load\n",
    "\n",
    "import numpy as np # linear algebra\n",
    "import pandas as pd # data processing, CSV file I/O (e.g. pd.read_csv)\n",
    "\n",
    "# Input data files are available in the read-only \"../input/\" directory\n",
    "# For example, running this (by clicking run or pressing Shift+Enter) will list all files under the input directory\n",
    "\n",
    "import os\n",
    "for dirname, _, filenames in os.walk('/kaggle/input'):\n",
    "    for filename in filenames:\n",
    "        print(os.path.join(dirname, filename))\n",
    "\n",
    "# You can write up to 20GB to the current directory (/kaggle/working/) that gets preserved as output when you create a version using \"Save & Run All\" \n",
    "# You can also write temporary files to /kaggle/temp/, but they won't be saved outside of the current session"
   ]
  },
  {
   "cell_type": "code",
   "execution_count": 79,
   "metadata": {
    "execution": {
     "iopub.execute_input": "2022-09-11T16:45:00.335822Z",
     "iopub.status.busy": "2022-09-11T16:45:00.335301Z",
     "iopub.status.idle": "2022-09-11T16:45:00.348387Z",
     "shell.execute_reply": "2022-09-11T16:45:00.347014Z",
     "shell.execute_reply.started": "2022-09-11T16:45:00.335765Z"
    }
   },
   "outputs": [
    {
     "name": "stdout",
     "output_type": "stream",
     "text": [
      "[nltk_data] Downloading package stopwords to /usr/share/nltk_data...\n",
      "[nltk_data]   Package stopwords is already up-to-date!\n"
     ]
    }
   ],
   "source": [
    "import re\n",
    "import string\n",
    "\n",
    "import matplotlib.pyplot as plt\n",
    "import seaborn as sns\n",
    "import nltk\n",
    "from nltk.stem import WordNetLemmatizer\n",
    "from nltk.tokenize import word_tokenize\n",
    "from nltk.corpus import stopwords\n",
    "\n",
    "nltk.download('stopwords')\n",
    "stop_words = stopwords.words('english')"
   ]
  },
  {
   "cell_type": "code",
   "execution_count": 80,
   "metadata": {
    "execution": {
     "iopub.execute_input": "2022-09-11T16:45:00.350831Z",
     "iopub.status.busy": "2022-09-11T16:45:00.349925Z",
     "iopub.status.idle": "2022-09-11T16:45:02.116446Z",
     "shell.execute_reply": "2022-09-11T16:45:02.114972Z",
     "shell.execute_reply.started": "2022-09-11T16:45:00.350793Z"
    }
   },
   "outputs": [
    {
     "data": {
      "text/html": [
       "<div>\n",
       "<style scoped>\n",
       "    .dataframe tbody tr th:only-of-type {\n",
       "        vertical-align: middle;\n",
       "    }\n",
       "\n",
       "    .dataframe tbody tr th {\n",
       "        vertical-align: top;\n",
       "    }\n",
       "\n",
       "    .dataframe thead th {\n",
       "        text-align: right;\n",
       "    }\n",
       "</style>\n",
       "<table border=\"1\" class=\"dataframe\">\n",
       "  <thead>\n",
       "    <tr style=\"text-align: right;\">\n",
       "      <th></th>\n",
       "      <th>id</th>\n",
       "      <th>comment_text</th>\n",
       "      <th>toxic</th>\n",
       "      <th>severe_toxic</th>\n",
       "      <th>obscene</th>\n",
       "      <th>threat</th>\n",
       "      <th>insult</th>\n",
       "      <th>identity_hate</th>\n",
       "    </tr>\n",
       "  </thead>\n",
       "  <tbody>\n",
       "    <tr>\n",
       "      <th>0</th>\n",
       "      <td>0000997932d777bf</td>\n",
       "      <td>Explanation\\nWhy the edits made under my usern...</td>\n",
       "      <td>0</td>\n",
       "      <td>0</td>\n",
       "      <td>0</td>\n",
       "      <td>0</td>\n",
       "      <td>0</td>\n",
       "      <td>0</td>\n",
       "    </tr>\n",
       "    <tr>\n",
       "      <th>1</th>\n",
       "      <td>000103f0d9cfb60f</td>\n",
       "      <td>D'aww! He matches this background colour I'm s...</td>\n",
       "      <td>0</td>\n",
       "      <td>0</td>\n",
       "      <td>0</td>\n",
       "      <td>0</td>\n",
       "      <td>0</td>\n",
       "      <td>0</td>\n",
       "    </tr>\n",
       "    <tr>\n",
       "      <th>2</th>\n",
       "      <td>000113f07ec002fd</td>\n",
       "      <td>Hey man, I'm really not trying to edit war. It...</td>\n",
       "      <td>0</td>\n",
       "      <td>0</td>\n",
       "      <td>0</td>\n",
       "      <td>0</td>\n",
       "      <td>0</td>\n",
       "      <td>0</td>\n",
       "    </tr>\n",
       "    <tr>\n",
       "      <th>3</th>\n",
       "      <td>0001b41b1c6bb37e</td>\n",
       "      <td>\"\\nMore\\nI can't make any real suggestions on ...</td>\n",
       "      <td>0</td>\n",
       "      <td>0</td>\n",
       "      <td>0</td>\n",
       "      <td>0</td>\n",
       "      <td>0</td>\n",
       "      <td>0</td>\n",
       "    </tr>\n",
       "    <tr>\n",
       "      <th>4</th>\n",
       "      <td>0001d958c54c6e35</td>\n",
       "      <td>You, sir, are my hero. Any chance you remember...</td>\n",
       "      <td>0</td>\n",
       "      <td>0</td>\n",
       "      <td>0</td>\n",
       "      <td>0</td>\n",
       "      <td>0</td>\n",
       "      <td>0</td>\n",
       "    </tr>\n",
       "  </tbody>\n",
       "</table>\n",
       "</div>"
      ],
      "text/plain": [
       "                 id                                       comment_text  toxic  \\\n",
       "0  0000997932d777bf  Explanation\\nWhy the edits made under my usern...      0   \n",
       "1  000103f0d9cfb60f  D'aww! He matches this background colour I'm s...      0   \n",
       "2  000113f07ec002fd  Hey man, I'm really not trying to edit war. It...      0   \n",
       "3  0001b41b1c6bb37e  \"\\nMore\\nI can't make any real suggestions on ...      0   \n",
       "4  0001d958c54c6e35  You, sir, are my hero. Any chance you remember...      0   \n",
       "\n",
       "   severe_toxic  obscene  threat  insult  identity_hate  \n",
       "0             0        0       0       0              0  \n",
       "1             0        0       0       0              0  \n",
       "2             0        0       0       0              0  \n",
       "3             0        0       0       0              0  \n",
       "4             0        0       0       0              0  "
      ]
     },
     "execution_count": 80,
     "metadata": {},
     "output_type": "execute_result"
    }
   ],
   "source": [
    "df = pd.read_csv('../input/jigsaw-toxic-comment-classification-challenge/train.csv.zip')\n",
    "df.head()"
   ]
  },
  {
   "cell_type": "code",
   "execution_count": 81,
   "metadata": {
    "execution": {
     "iopub.execute_input": "2022-09-11T16:45:02.120225Z",
     "iopub.status.busy": "2022-09-11T16:45:02.119813Z",
     "iopub.status.idle": "2022-09-11T16:45:02.170351Z",
     "shell.execute_reply": "2022-09-11T16:45:02.168013Z",
     "shell.execute_reply.started": "2022-09-11T16:45:02.120189Z"
    }
   },
   "outputs": [
    {
     "name": "stdout",
     "output_type": "stream",
     "text": [
      "<class 'pandas.core.frame.DataFrame'>\n",
      "RangeIndex: 159571 entries, 0 to 159570\n",
      "Data columns (total 8 columns):\n",
      " #   Column         Non-Null Count   Dtype \n",
      "---  ------         --------------   ----- \n",
      " 0   id             159571 non-null  object\n",
      " 1   comment_text   159571 non-null  object\n",
      " 2   toxic          159571 non-null  int64 \n",
      " 3   severe_toxic   159571 non-null  int64 \n",
      " 4   obscene        159571 non-null  int64 \n",
      " 5   threat         159571 non-null  int64 \n",
      " 6   insult         159571 non-null  int64 \n",
      " 7   identity_hate  159571 non-null  int64 \n",
      "dtypes: int64(6), object(2)\n",
      "memory usage: 9.7+ MB\n"
     ]
    }
   ],
   "source": [
    "df.info()"
   ]
  },
  {
   "cell_type": "code",
   "execution_count": 82,
   "metadata": {
    "execution": {
     "iopub.execute_input": "2022-09-11T16:45:02.172387Z",
     "iopub.status.busy": "2022-09-11T16:45:02.171920Z",
     "iopub.status.idle": "2022-09-11T16:45:02.465579Z",
     "shell.execute_reply": "2022-09-11T16:45:02.463266Z",
     "shell.execute_reply.started": "2022-09-11T16:45:02.172350Z"
    }
   },
   "outputs": [
    {
     "data": {
      "text/plain": [
       "0"
      ]
     },
     "execution_count": 82,
     "metadata": {},
     "output_type": "execute_result"
    }
   ],
   "source": [
    "# No Nulls\n",
    "\n",
    "# check duplicates\n",
    "df = df.drop(columns=['id'])\n",
    "df.duplicated().sum()"
   ]
  },
  {
   "cell_type": "code",
   "execution_count": 83,
   "metadata": {
    "execution": {
     "iopub.execute_input": "2022-09-11T16:45:02.469478Z",
     "iopub.status.busy": "2022-09-11T16:45:02.469056Z",
     "iopub.status.idle": "2022-09-11T16:45:02.490359Z",
     "shell.execute_reply": "2022-09-11T16:45:02.488798Z",
     "shell.execute_reply.started": "2022-09-11T16:45:02.469443Z"
    }
   },
   "outputs": [
    {
     "data": {
      "text/plain": [
       "toxic            15294\n",
       "severe_toxic      1595\n",
       "obscene           8449\n",
       "threat             478\n",
       "insult            7877\n",
       "identity_hate     1405\n",
       "dtype: int64"
      ]
     },
     "execution_count": 83,
     "metadata": {},
     "output_type": "execute_result"
    }
   ],
   "source": [
    "# check data balance\n",
    "df[df.columns[1:]].sum()"
   ]
  },
  {
   "cell_type": "code",
   "execution_count": 84,
   "metadata": {
    "execution": {
     "iopub.execute_input": "2022-09-11T16:45:02.492896Z",
     "iopub.status.busy": "2022-09-11T16:45:02.492481Z",
     "iopub.status.idle": "2022-09-11T16:45:02.756109Z",
     "shell.execute_reply": "2022-09-11T16:45:02.754747Z",
     "shell.execute_reply.started": "2022-09-11T16:45:02.492859Z"
    }
   },
   "outputs": [
    {
     "data": {
      "text/plain": [
       "<AxesSubplot:>"
      ]
     },
     "execution_count": 84,
     "metadata": {},
     "output_type": "execute_result"
    },
    {
     "data": {
      "image/png": "[encoded data removed]",
      "text/plain": [
       "<Figure size 432x288 with 1 Axes>"
      ]
     },
     "metadata": {
      "needs_background": "light"
     },
     "output_type": "display_data"
    }
   ],
   "source": [
    "# show all frequencies\n",
    "labels_freq = df[df.columns[1:]].sum(axis=1)\n",
    "labels_freq.hist()"
   ]
  },
  {
   "cell_type": "markdown",
   "metadata": {},
   "source": [
    "## First Note: The data is imbalanced."
   ]
  },
  {
   "cell_type": "markdown",
   "metadata": {},
   "source": [
    "# Text Preprocessing:"
   ]
  },
  {
   "cell_type": "code",
   "execution_count": 85,
   "metadata": {
    "execution": {
     "iopub.execute_input": "2022-09-11T16:45:02.758118Z",
     "iopub.status.busy": "2022-09-11T16:45:02.757641Z",
     "iopub.status.idle": "2022-09-11T16:45:02.771098Z",
     "shell.execute_reply": "2022-09-11T16:45:02.769690Z",
     "shell.execute_reply.started": "2022-09-11T16:45:02.758085Z"
    }
   },
   "outputs": [
    {
     "name": "stdout",
     "output_type": "stream",
     "text": [
      "Arbitration: Konullu \n",
      "\n",
      "You have been mentioned here. Wikipedia:Arbitration/Requests/Enforcement\n",
      "\"\n",
      "\n",
      "Lead\n",
      "It was written and produced by Adam Messinger and Nasri of The Messengers and Sir Nolan, while Bieber and Ludacris, the song's guest feature, wrote additional lyrics. → It was written by Bieber, Sir Nolan and Nasri of The Messengers in collaboration with Ludacris, who guest features. \n",
      "but reached → reaching\n",
      "\n",
      "Background and composition\n",
      "while Bieber and Ludacris, the song's guest feature, wrote additional lyrics. → This is really unclear, it sounds like the are both features and that there is no lead artist. Apply what I suggested above.\n",
      "I know Eurodance is sourced in the info box, but it seems strange not to include it in the Composition info?\n",
      "\n",
      "Reception\n",
      "I'd say from one of the first reviews, it is also a synth-pop song?\n",
      "out of five stars, commented → out of five stars, and commented \n",
      "The chart performance section is tiny. Just from reading this, it sounds like it only charted in five countries without looking at the table. This could be expanded to cover US, Europe and Oceania in more detail. Debut, peak and how many weeks charting.\n",
      "\n",
      "Track listing\n",
      "Not needed, only one version.\n",
      "\n",
      "Charts\n",
      "2012 peaks should be in a separate table to 2013 peaks.\n",
      "\n",
      "Release history\n",
      "Being given digital download makes it a single, not a promo single. Promo singles are free and cannot chart. So this is questionable.\n",
      "The Region column needs the same shaded mark up as the Charts table.\n",
      "\n",
      "Refs\n",
      "The first one isn't even formatted.\n",
      "Ref 3 needs linking for MTV and Viacom\n",
      "Ref 7 therefore needs unlinking\n",
      "\n",
      "External links\n",
      "Some sort of red link All Around the World template needs removing.\n",
      "\n",
      "Status\n",
      "On hold  — aron \"\n",
      "matt J! \n",
      "\n",
      "matty j is a right winged nut!\n",
      "\"\n",
      "\n",
      " still featured? \n",
      "\n",
      "The \"\"featured\"\" star seems to have been lost in the article. –  \"\n",
      "\"\n",
      "\n",
      "Welcome\n",
      "\n",
      "Hello and welcome to Wikipedia!  We appreciate encyclopedic contributions, but some of your recent contributions do not conform to our policies.  For more information on this, see\n",
      "Wikipedia's policies on vandalism\n",
      "Policies on banned or discouraged content\n",
      "\n",
      "If you'd like to experiment with the wiki's syntax, please do so on Wikipedia:Sandbox rather than in articles.\n",
      "\n",
      "If you still have questions, there is a new contributor's help page, or you can write {{helpme}} below this message along with a question and someone will be along to answer it shortly.  You may also find the following pages useful for a general introduction to Wikipedia.\n",
      "The five pillars of Wikipedia\n",
      "How to edit a page\n",
      "Help pages\n",
      "Tutorial\n",
      "How to write a great article\n",
      "Manual of Style\n",
      "Policy on neutral point of view\n",
      "Guideline on external links\n",
      "Guideline on conflict of interest\n",
      "I hope you enjoy editing Wikipedia!  Please sign your name on talk pages using four tildes (~~~~); this will automatically produce your name and the date. Feel free to write a note on the bottom of  if you want to get in touch with me. Again, welcome! ...  (hello) \"\n",
      "I have only one question. If some one  wants to visit Hargeisa to see laasgeel  does he need Somalia visa or Somaliland visa?   if all Somaliland foreign visitors are required to have Somaliland Visa this page should be separate. does that makes sense ?\n",
      "I would also note that Sturgeon Point light station was the preferred southern boundary of the National Marine Sanctuary.  [ref>National Marine Sanctuary.http://legalminds.lp.findlaw.com/list/epa-impact/msg02891.htmlhttp://legalminds.lp.findlaw.com/list/epa-impact/msg02891.html\n",
      "  Stan\n",
      "\n",
      "Notes\n",
      "{{reflist}]\n",
      "That is genus, if Master of Puppets did not come out almost 10 years after this song.\n",
      "I also support this point of view. I blocked the article at some point because virtually all contributions were pointless edits which were just a waste of time. However, I fully agree with the idea that it is not the article that should not be sanctionned because of the behaviour of the users who edit it.\n",
      "\"\n",
      "\n",
      "Now the first sentence is even worse: \"\"Parapsychology is a discipline that seeks to demonstrate the existence and causes of psychic abilities and life after death using the scientific method.\"\" First of all the word discipline is obtuse in this. If it truly \"\"seeks to demonstrate\"\" then it is not science. If there is no evidence for psychic abilities then looking for causes is not scientific. What you are describing is a belief system.\n",
      "\n",
      "\"\"Parapsychology is the scientific  study of claims of the existence of psychic ability and life after death.\"\" would be a more sensible lead statement (if indeed that is what parapsychology is). Gosh, hard to believe I haven't got past the first line yet!   \"\n",
      "by POVish titles typical communist logic! 90% is against your idea - this is subjective view! This is POVish in Wikipedia standards! 10% supports your idea - this is objective! This is neutral! This is NPOV!! Leave aside Britannica, leave aside the Western democracies, leave aside the International law and lawyers - a communist tyrant and current Russian rulers disagree with the - ergo it should be removed!  - Talk\n",
      "You are correct: I don't like the guy either, think he set M.E. relations back 30 yr, & think he shoulda gone to prison, but there's nothing about his USMC career, nothing about how he got the job @the NSC (an active duty Marine in a civilian govt. position & so out of the USMC chain of command), & nothing about how he came to know CIA director Casey, whom he told the hearings committee was like a father to him & for whom he basically worked.\n",
      "Stick with the ref-style footnotes that the article has one example of already.  Thanks.\n",
      "In fact both URIs AskMeHowIAm links to, claim to offer the original 3.50 or 3.51 client for download. And they both state it as compatible to the edonkey network. That's my own effort as well. To make sure Wikipedia readers are correctly informed about the Lphant p2p application, regardless of any developments to the domain name. Old Death has an excellent point.\n",
      "\"\n",
      "\n",
      " File:Wiki zi2.png listed for deletion \n",
      "An image or media file that you uploaded or altered, File:Wiki zi2.png, has been listed at Wikipedia:Images and media for deletion. Please see the discussion to see why this is (you may have to search for the title of the image to find its entry), if you are interested in it not being deleted.    (talk) \"\n",
      "Sandy Springs, Georgia \n",
      "\n",
      "At what level of per-capita income (or some other factor) does a city become affluent?\n",
      "Remove interim managers \n",
      "\n",
      "Interim managers are nothing special i dont think people are interested in the person\n",
      "who took over from a sacked headcoach\n",
      "\n",
      "i suggest we delete them\n",
      "if also makes the managers area more readable !\n",
      "My name's Jeffrey Mills=\n",
      "=or J-Doggzzzz for short\n",
      "as embodied by the IPCC report.  This is a perfect example of the type of OR that is rampant in the article\n",
      "i'll also just stay away from Talk:Digg since that was the cause of all this trouble.\n"
     ]
    }
   ],
   "source": [
    "for text in df.sample(20)['comment_text']:\n",
    "    print(text)"
   ]
  },
  {
   "cell_type": "code",
   "execution_count": 86,
   "metadata": {
    "execution": {
     "iopub.execute_input": "2022-09-11T16:45:02.773699Z",
     "iopub.status.busy": "2022-09-11T16:45:02.773333Z",
     "iopub.status.idle": "2022-09-11T16:45:02.794244Z",
     "shell.execute_reply": "2022-09-11T16:45:02.792942Z",
     "shell.execute_reply.started": "2022-09-11T16:45:02.773665Z"
    }
   },
   "outputs": [],
   "source": [
    "def to_lowercase(text):\n",
    "    return text.lower()\n",
    "\n",
    "# Remove website links\n",
    "def remove_links(text):\n",
    "    template = re.compile(r'https?://\\S+|www\\.\\S+') \n",
    "    text = template.sub(r'', text)\n",
    "    return text\n",
    "\n",
    "# Remove HTML tags\n",
    "def remove_html(text):\n",
    "    template = re.compile(r'<[^>]*>') \n",
    "    text = template.sub(r'', text)\n",
    "    return text\n",
    "\n",
    "def text2words(text):\n",
    "      return word_tokenize(text)\n",
    "\n",
    "# Remove stopwords\n",
    "def remove_stopwords(words, stop_words):\n",
    "    return [word for word in words if word not in stop_words]\n",
    "\n",
    "# Remove none ascii characters\n",
    "def remove_non_ascii(text):\n",
    "    template = re.compile(r'[^\\x00-\\x7E]+') \n",
    "    text = template.sub(r'', text)\n",
    "    return text\n",
    "\n",
    "# Replace none printable characters\n",
    "def remove_non_printable(text):\n",
    "    template = re.compile(r'[\\x00-\\x0F]+') \n",
    "    text = template.sub(r' ', text)\n",
    "    return text\n",
    "\n",
    "# Remove special characters\n",
    "def remove_special_chars(text):\n",
    "    text = re.sub(\"'s\", '', text)\n",
    "    template = re.compile('[\"#$%&\\'()\\*\\+-/:;<=>@\\[\\]\\\\\\\\^_`{|}~]') \n",
    "    text = template.sub(r'', text)\n",
    "    return text\n",
    "\n",
    "# Replace multiple punctuation \n",
    "def replace_multiplt_punc(text):\n",
    "    text = re.sub('[.!?]{2,}', '.', text)\n",
    "    text = re.sub(',+', ',', text) \n",
    "    return text\n",
    "\n",
    "\n",
    "def remove_punctuation(text):\n",
    "    \"\"\"Remove punctuation from list of tokenized words\"\"\"\n",
    "    translator = str.maketrans('', '', string.punctuation)\n",
    "    return text.translate(translator)\n",
    "\n",
    "\n",
    "# Remove numbers\n",
    "def remove_numbers(text):\n",
    "    text = re.sub('\\d+', '', text)\n",
    "    return text\n",
    "\n",
    "\n",
    "def handle_spaces(text):\n",
    "    # Remove extra spaces\n",
    "    text = re.sub('\\s+', ' ', text)\n",
    "    # Remove spaces at the beginning and at the end of string\n",
    "    text = text.strip() \n",
    "    return text\n",
    "\n",
    "\n",
    "def lemmatize_words(words):\n",
    "    \"\"\"Lemmatize words in text\"\"\"\n",
    "    lemmatizer = WordNetLemmatizer()\n",
    "    return [lemmatizer.lemmatize(word) for word in words]\n",
    "\n",
    "\n",
    "def lemmatize_verbs(words):\n",
    "    \"\"\"Lemmatize verbs in text\"\"\"\n",
    "    lemmatizer = WordNetLemmatizer()\n",
    "    return ([lemmatizer.lemmatize(word, pos='v') for word in words])\n",
    "\n",
    "\n",
    "def remove_pattern(text): \n",
    "    # remove hi moron \n",
    "    text= re.sub(r'(hi)(.*)\\1', r'\\1', text)\n",
    "    # remove duplicate words\n",
    "    text= re.sub(r\"\\b(\\w+)(?:\\W+\\1\\b)+\",r'\\1', text,flags=re.IGNORECASE)\n",
    "    # remove [User:Cirt]] \n",
    "    text= re.sub(r\"\\[.*?\\]\", ' ', text)\n",
    "    # remove \\n\\n\n",
    "    text= re.sub(r\"\\n\", ' ', text)\n",
    "    return text\n",
    "\n",
    "\n",
    "stop_words = set(stop_words)\n",
    "def clean_text( text):\n",
    "    text = remove_links(text)\n",
    "    text = remove_html(text)\n",
    "    text = remove_special_chars(text)\n",
    "    text = remove_non_ascii(text)\n",
    "    text = remove_non_printable(text)\n",
    "    text = remove_numbers(text)\n",
    "    text = to_lowercase(text)\n",
    "    text = remove_pattern(text)\n",
    "    text = remove_punctuation(text)\n",
    "    text = handle_spaces(text)\n",
    "    words = text2words(text)\n",
    "    words = remove_stopwords(words, stop_words)\n",
    "    #words = stem_words(words) #either stem or lemmatize\n",
    "    words = lemmatize_words(words)\n",
    "    words = lemmatize_verbs(words)\n",
    "    return ' '.join(words)"
   ]
  },
  {
   "cell_type": "code",
   "execution_count": 87,
   "metadata": {
    "execution": {
     "iopub.execute_input": "2022-09-11T16:45:02.799727Z",
     "iopub.status.busy": "2022-09-11T16:45:02.799291Z",
     "iopub.status.idle": "2022-09-11T16:45:02.840112Z",
     "shell.execute_reply": "2022-09-11T16:45:02.838915Z",
     "shell.execute_reply.started": "2022-09-11T16:45:02.799680Z"
    }
   },
   "outputs": [
    {
     "name": "stdout",
     "output_type": "stream",
     "text": [
      "threat head observation pompous little goody goody expect kid glove treatment smell salt every turn usually retire open new account another name thank god im id mind little business stick little article stop run big strong men around place shoulder cry scent hanky cry sound like someone raise miss longfellow school young lady greatest challenge make french knot petit point pillow sham hahahahaha \n",
      "\n",
      "section keep undo everything could consider chat undo obviously bias cabal editor work include summerphd jeff g rolandr many others \n",
      "\n",
      "please vandalize page edit henry iv part continue block edit mz \n",
      "\n",
      "website youre cite british site british monarchy government site maintain british monarchy website canadian monarchy run canadian government name elizabeth ii queen canada website canadian governor general queen representative canada website governor general new zealand refer queen new zealand thip st vincent grenadine unique duty speak act queen st vincent grenadine queen unite kingdom \n",
      "\n",
      "mandodi kannan guess north kerala know article real hoax thank \n",
      "\n",
      "im withdraw anythich could collectively care le real truth lie greatly regret contribute jimbo wale word viewpoint hold extremely small vastly limit minority doesnt belong wikipedia except perhaps ancillary article regardless whether true regardless whether prove truth issue majority want believe standard wikipedia content wikipedia isnt project accrue represent accurate information actually mean represent popular belief blatant disregard truth im surprise even section evolution \n",
      "\n",
      "oh yeah feel like as \n",
      "\n",
      "dont show djokovic hich part wikipedia \n",
      "\n",
      "new track cloud ft jeff beck ill river ft vivian green water edge ft sarah mclachlan \n",
      "\n",
      "new article wizard hey zman per somewhere darn find anymore thank \n",
      "\n",
      "someone explain uk impose immigration restriction ive never really understand \n",
      "\n",
      "stylescurrent v v none \n",
      "\n",
      "thank lot asshole get block fuck asshole \n",
      "\n",
      "great let notice contestant choose door randomly switch different answer answer different question question make different assumption dont want debate whink box realize two one decision moment first important second \n",
      "\n",
      "vandalism truth \n",
      "\n",
      "agree partly \n",
      "\n",
      "shut whore mouth open letter wikipedia review thill fag isnt fuck people like get acceptance people like u isnt go happen gtfo \n",
      "\n",
      "extension block wasnt work sandstein fatuorum \n",
      "\n",
      "bwilkins blame others martyr mention want explain accusation hound others disingenuous best false know do time block upset back able write request want take revenge believe time expiration set record straight entitle opinion would helpful youbwilkins tell would do sure falsely accuse thank \n",
      "\n",
      "use spoiler tag trim individual character entry definitely suppose short get long lately \n",
      "\n"
     ]
    }
   ],
   "source": [
    "# test the result\n",
    "sample_comments = df.sample(20)['comment_text']\n",
    "result = sample_comments.apply(clean_text)\n",
    "\n",
    "for text in result:\n",
    "    print(text, '\\n')"
   ]
  },
  {
   "cell_type": "code",
   "execution_count": 88,
   "metadata": {
    "execution": {
     "iopub.execute_input": "2022-09-11T16:45:02.842449Z",
     "iopub.status.busy": "2022-09-11T16:45:02.841870Z",
     "iopub.status.idle": "2022-09-11T16:46:31.424568Z",
     "shell.execute_reply": "2022-09-11T16:46:31.423436Z",
     "shell.execute_reply.started": "2022-09-11T16:45:02.842413Z"
    }
   },
   "outputs": [
    {
     "data": {
      "text/html": [
       "<div>\n",
       "<style scoped>\n",
       "    .dataframe tbody tr th:only-of-type {\n",
       "        vertical-align: middle;\n",
       "    }\n",
       "\n",
       "    .dataframe tbody tr th {\n",
       "        vertical-align: top;\n",
       "    }\n",
       "\n",
       "    .dataframe thead th {\n",
       "        text-align: right;\n",
       "    }\n",
       "</style>\n",
       "<table border=\"1\" class=\"dataframe\">\n",
       "  <thead>\n",
       "    <tr style=\"text-align: right;\">\n",
       "      <th></th>\n",
       "      <th>comment_text</th>\n",
       "      <th>toxic</th>\n",
       "      <th>severe_toxic</th>\n",
       "      <th>obscene</th>\n",
       "      <th>threat</th>\n",
       "      <th>insult</th>\n",
       "      <th>identity_hate</th>\n",
       "    </tr>\n",
       "  </thead>\n",
       "  <tbody>\n",
       "    <tr>\n",
       "      <th>0</th>\n",
       "      <td>explanation edit make username hardcore metall...</td>\n",
       "      <td>0</td>\n",
       "      <td>0</td>\n",
       "      <td>0</td>\n",
       "      <td>0</td>\n",
       "      <td>0</td>\n",
       "      <td>0</td>\n",
       "    </tr>\n",
       "    <tr>\n",
       "      <th>1</th>\n",
       "      <td>daww match background colour im seemingly stic...</td>\n",
       "      <td>0</td>\n",
       "      <td>0</td>\n",
       "      <td>0</td>\n",
       "      <td>0</td>\n",
       "      <td>0</td>\n",
       "      <td>0</td>\n",
       "    </tr>\n",
       "    <tr>\n",
       "      <th>2</th>\n",
       "      <td>hey man im really try edit war guy constantly ...</td>\n",
       "      <td>0</td>\n",
       "      <td>0</td>\n",
       "      <td>0</td>\n",
       "      <td>0</td>\n",
       "      <td>0</td>\n",
       "      <td>0</td>\n",
       "    </tr>\n",
       "    <tr>\n",
       "      <th>3</th>\n",
       "      <td>cant make real suggestion improvement wonder s...</td>\n",
       "      <td>0</td>\n",
       "      <td>0</td>\n",
       "      <td>0</td>\n",
       "      <td>0</td>\n",
       "      <td>0</td>\n",
       "      <td>0</td>\n",
       "    </tr>\n",
       "    <tr>\n",
       "      <th>4</th>\n",
       "      <td>sir hero chance remember page</td>\n",
       "      <td>0</td>\n",
       "      <td>0</td>\n",
       "      <td>0</td>\n",
       "      <td>0</td>\n",
       "      <td>0</td>\n",
       "      <td>0</td>\n",
       "    </tr>\n",
       "  </tbody>\n",
       "</table>\n",
       "</div>"
      ],
      "text/plain": [
       "                                        comment_text  toxic  severe_toxic  \\\n",
       "0  explanation edit make username hardcore metall...      0             0   \n",
       "1  daww match background colour im seemingly stic...      0             0   \n",
       "2  hey man im really try edit war guy constantly ...      0             0   \n",
       "3  cant make real suggestion improvement wonder s...      0             0   \n",
       "4                      sir hero chance remember page      0             0   \n",
       "\n",
       "   obscene  threat  insult  identity_hate  \n",
       "0        0       0       0              0  \n",
       "1        0       0       0              0  \n",
       "2        0       0       0              0  \n",
       "3        0       0       0              0  \n",
       "4        0       0       0              0  "
      ]
     },
     "execution_count": 88,
     "metadata": {},
     "output_type": "execute_result"
    }
   ],
   "source": [
    "# clean the whole dataset\n",
    "df['comment_text'] = df['comment_text'].apply(clean_text)\n",
    "df.head()"
   ]
  },
  {
   "cell_type": "code",
   "execution_count": 89,
   "metadata": {
    "execution": {
     "iopub.execute_input": "2022-09-11T16:46:31.426821Z",
     "iopub.status.busy": "2022-09-11T16:46:31.426415Z",
     "iopub.status.idle": "2022-09-11T16:46:31.644615Z",
     "shell.execute_reply": "2022-09-11T16:46:31.643659Z",
     "shell.execute_reply.started": "2022-09-11T16:46:31.426787Z"
    }
   },
   "outputs": [
    {
     "name": "stdout",
     "output_type": "stream",
     "text": [
      "min length = 1\n",
      "max length = 1250\n"
     ]
    }
   ],
   "source": [
    "# check min & max comment length\n",
    "lens = np.array([len(c.split(' ')) for c in df['comment_text']])\n",
    "print('min length =', lens.min())\n",
    "print('max length =', lens.max())"
   ]
  },
  {
   "cell_type": "code",
   "execution_count": 90,
   "metadata": {
    "execution": {
     "iopub.execute_input": "2022-09-11T16:46:31.646884Z",
     "iopub.status.busy": "2022-09-11T16:46:31.645959Z",
     "iopub.status.idle": "2022-09-11T16:46:32.012608Z",
     "shell.execute_reply": "2022-09-11T16:46:32.011336Z",
     "shell.execute_reply.started": "2022-09-11T16:46:31.646845Z"
    }
   },
   "outputs": [
    {
     "data": {
      "text/plain": [
       "(array([8.1507e+04, 4.2376e+04, 1.9336e+04, 7.6780e+03, 4.1520e+03,\n",
       "        1.8560e+03, 1.0730e+03, 6.2200e+02, 3.4700e+02, 1.6500e+02,\n",
       "        1.1900e+02, 6.3000e+01, 3.9000e+01, 2.2000e+01, 1.5000e+01,\n",
       "        1.3000e+01, 1.7000e+01, 8.0000e+00, 1.1000e+01, 6.0000e+00,\n",
       "        2.0000e+00, 5.0000e+00, 1.5000e+01, 8.0000e+00, 9.0000e+00,\n",
       "        2.0000e+00, 3.0000e+00, 1.0000e+00, 8.0000e+00, 3.0000e+00,\n",
       "        4.0000e+00, 1.0000e+00, 5.0000e+00, 7.0000e+00, 5.0000e+00,\n",
       "        1.0000e+00, 9.0000e+00, 1.0000e+00, 6.0000e+00, 1.0000e+00,\n",
       "        1.0000e+00, 3.0000e+00, 4.0000e+00, 1.0000e+00, 5.0000e+00,\n",
       "        0.0000e+00, 4.0000e+00, 1.0000e+00, 1.0000e+00, 4.0000e+00,\n",
       "        2.0000e+00, 0.0000e+00, 1.0000e+00, 3.0000e+00, 1.0000e+00,\n",
       "        1.0000e+00, 4.0000e+00, 0.0000e+00, 1.0000e+00, 0.0000e+00,\n",
       "        0.0000e+00, 1.0000e+00, 0.0000e+00, 1.0000e+00, 0.0000e+00,\n",
       "        0.0000e+00, 1.0000e+00, 0.0000e+00, 0.0000e+00, 1.0000e+00,\n",
       "        0.0000e+00, 1.0000e+00, 1.0000e+00, 0.0000e+00, 2.0000e+00,\n",
       "        0.0000e+00, 0.0000e+00, 0.0000e+00, 0.0000e+00, 1.0000e+00,\n",
       "        0.0000e+00, 0.0000e+00, 0.0000e+00, 0.0000e+00, 0.0000e+00,\n",
       "        0.0000e+00, 0.0000e+00, 0.0000e+00, 0.0000e+00, 0.0000e+00,\n",
       "        0.0000e+00, 0.0000e+00, 0.0000e+00, 0.0000e+00, 0.0000e+00,\n",
       "        0.0000e+00, 0.0000e+00, 0.0000e+00, 1.0000e+00, 3.0000e+00]),\n",
       " array([1.00000e+00, 1.34900e+01, 2.59800e+01, 3.84700e+01, 5.09600e+01,\n",
       "        6.34500e+01, 7.59400e+01, 8.84300e+01, 1.00920e+02, 1.13410e+02,\n",
       "        1.25900e+02, 1.38390e+02, 1.50880e+02, 1.63370e+02, 1.75860e+02,\n",
       "        1.88350e+02, 2.00840e+02, 2.13330e+02, 2.25820e+02, 2.38310e+02,\n",
       "        2.50800e+02, 2.63290e+02, 2.75780e+02, 2.88270e+02, 3.00760e+02,\n",
       "        3.13250e+02, 3.25740e+02, 3.38230e+02, 3.50720e+02, 3.63210e+02,\n",
       "        3.75700e+02, 3.88190e+02, 4.00680e+02, 4.13170e+02, 4.25660e+02,\n",
       "        4.38150e+02, 4.50640e+02, 4.63130e+02, 4.75620e+02, 4.88110e+02,\n",
       "        5.00600e+02, 5.13090e+02, 5.25580e+02, 5.38070e+02, 5.50560e+02,\n",
       "        5.63050e+02, 5.75540e+02, 5.88030e+02, 6.00520e+02, 6.13010e+02,\n",
       "        6.25500e+02, 6.37990e+02, 6.50480e+02, 6.62970e+02, 6.75460e+02,\n",
       "        6.87950e+02, 7.00440e+02, 7.12930e+02, 7.25420e+02, 7.37910e+02,\n",
       "        7.50400e+02, 7.62890e+02, 7.75380e+02, 7.87870e+02, 8.00360e+02,\n",
       "        8.12850e+02, 8.25340e+02, 8.37830e+02, 8.50320e+02, 8.62810e+02,\n",
       "        8.75300e+02, 8.87790e+02, 9.00280e+02, 9.12770e+02, 9.25260e+02,\n",
       "        9.37750e+02, 9.50240e+02, 9.62730e+02, 9.75220e+02, 9.87710e+02,\n",
       "        1.00020e+03, 1.01269e+03, 1.02518e+03, 1.03767e+03, 1.05016e+03,\n",
       "        1.06265e+03, 1.07514e+03, 1.08763e+03, 1.10012e+03, 1.11261e+03,\n",
       "        1.12510e+03, 1.13759e+03, 1.15008e+03, 1.16257e+03, 1.17506e+03,\n",
       "        1.18755e+03, 1.20004e+03, 1.21253e+03, 1.22502e+03, 1.23751e+03,\n",
       "        1.25000e+03]),\n",
       " <BarContainer object of 100 artists>)"
      ]
     },
     "execution_count": 90,
     "metadata": {},
     "output_type": "execute_result"
    },
    {
     "data": {
      "image/png": "[encoded data removed]",
      "text/plain": [
       "<Figure size 432x288 with 1 Axes>"
      ]
     },
     "metadata": {
      "needs_background": "light"
     },
     "output_type": "display_data"
    }
   ],
   "source": [
    "# show the whole distribution\n",
    "plt.xlim((0, 300))\n",
    "plt.hist(lens, bins=100)"
   ]
  },
  {
   "cell_type": "code",
   "execution_count": 91,
   "metadata": {
    "execution": {
     "iopub.execute_input": "2022-09-11T16:46:32.014838Z",
     "iopub.status.busy": "2022-09-11T16:46:32.014410Z",
     "iopub.status.idle": "2022-09-11T16:46:32.022920Z",
     "shell.execute_reply": "2022-09-11T16:46:32.021563Z",
     "shell.execute_reply.started": "2022-09-11T16:46:32.014803Z"
    }
   },
   "outputs": [
    {
     "data": {
      "text/plain": [
       "1508"
      ]
     },
     "execution_count": 91,
     "metadata": {},
     "output_type": "execute_result"
    }
   ],
   "source": [
    "len(lens[lens < 2])"
   ]
  },
  {
   "cell_type": "code",
   "execution_count": 92,
   "metadata": {
    "execution": {
     "iopub.execute_input": "2022-09-11T16:46:32.025048Z",
     "iopub.status.busy": "2022-09-11T16:46:32.024652Z",
     "iopub.status.idle": "2022-09-11T16:46:32.037148Z",
     "shell.execute_reply": "2022-09-11T16:46:32.036030Z",
     "shell.execute_reply.started": "2022-09-11T16:46:32.025015Z"
    }
   },
   "outputs": [
    {
     "data": {
      "text/plain": [
       "277"
      ]
     },
     "execution_count": 92,
     "metadata": {},
     "output_type": "execute_result"
    }
   ],
   "source": [
    "len(lens[lens > 150])"
   ]
  },
  {
   "cell_type": "code",
   "execution_count": 93,
   "metadata": {
    "execution": {
     "iopub.execute_input": "2022-09-11T16:46:32.039474Z",
     "iopub.status.busy": "2022-09-11T16:46:32.039075Z",
     "iopub.status.idle": "2022-09-11T16:46:32.049125Z",
     "shell.execute_reply": "2022-09-11T16:46:32.047817Z",
     "shell.execute_reply.started": "2022-09-11T16:46:32.039424Z"
    }
   },
   "outputs": [],
   "source": [
    "# Check if there are any special characteristics about those samples\n",
    "def show_labels_distribution(indices):\n",
    "    sample = df.loc[indices]\n",
    "    plt.hist(sample[sample.columns[1:]].sum(axis=1))\n",
    "    plt.show()"
   ]
  },
  {
   "cell_type": "code",
   "execution_count": 94,
   "metadata": {
    "execution": {
     "iopub.execute_input": "2022-09-11T16:46:32.051248Z",
     "iopub.status.busy": "2022-09-11T16:46:32.050902Z",
     "iopub.status.idle": "2022-09-11T16:46:32.262727Z",
     "shell.execute_reply": "2022-09-11T16:46:32.261763Z",
     "shell.execute_reply.started": "2022-09-11T16:46:32.051218Z"
    }
   },
   "outputs": [
    {
     "data": {
      "image/png": "[encoded data removed]",
      "text/plain": [
       "<Figure size 432x288 with 1 Axes>"
      ]
     },
     "metadata": {
      "needs_background": "light"
     },
     "output_type": "display_data"
    }
   ],
   "source": [
    "show_labels_distribution(lens < 3)"
   ]
  },
  {
   "cell_type": "code",
   "execution_count": 95,
   "metadata": {
    "execution": {
     "iopub.execute_input": "2022-09-11T16:46:32.264754Z",
     "iopub.status.busy": "2022-09-11T16:46:32.264185Z",
     "iopub.status.idle": "2022-09-11T16:46:32.481892Z",
     "shell.execute_reply": "2022-09-11T16:46:32.480834Z",
     "shell.execute_reply.started": "2022-09-11T16:46:32.264720Z"
    }
   },
   "outputs": [
    {
     "data": {
      "image/png": "[encoded data removed]",
      "text/plain": [
       "<Figure size 432x288 with 1 Axes>"
      ]
     },
     "metadata": {
      "needs_background": "light"
     },
     "output_type": "display_data"
    }
   ],
   "source": [
    "show_labels_distribution(lens > 140)"
   ]
  },
  {
   "cell_type": "code",
   "execution_count": 96,
   "metadata": {
    "execution": {
     "iopub.execute_input": "2022-09-11T16:46:32.483911Z",
     "iopub.status.busy": "2022-09-11T16:46:32.483341Z",
     "iopub.status.idle": "2022-09-11T16:46:32.489480Z",
     "shell.execute_reply": "2022-09-11T16:46:32.487875Z",
     "shell.execute_reply.started": "2022-09-11T16:46:32.483877Z"
    }
   },
   "outputs": [],
   "source": [
    "# Drop the samples with length < 3\n",
    "# proper_lens = (lens > 2)\n",
    "# df = df[proper_lens]\n",
    "# df = df.reset_index()\n",
    "# df.info()"
   ]
  },
  {
   "cell_type": "code",
   "execution_count": 97,
   "metadata": {
    "execution": {
     "iopub.execute_input": "2022-09-11T16:46:32.492710Z",
     "iopub.status.busy": "2022-09-11T16:46:32.491704Z",
     "iopub.status.idle": "2022-09-11T16:46:32.519214Z",
     "shell.execute_reply": "2022-09-11T16:46:32.518256Z",
     "shell.execute_reply.started": "2022-09-11T16:46:32.492634Z"
    }
   },
   "outputs": [
    {
     "data": {
      "text/html": [
       "<div>\n",
       "<style scoped>\n",
       "    .dataframe tbody tr th:only-of-type {\n",
       "        vertical-align: middle;\n",
       "    }\n",
       "\n",
       "    .dataframe tbody tr th {\n",
       "        vertical-align: top;\n",
       "    }\n",
       "\n",
       "    .dataframe thead th {\n",
       "        text-align: right;\n",
       "    }\n",
       "</style>\n",
       "<table border=\"1\" class=\"dataframe\">\n",
       "  <thead>\n",
       "    <tr style=\"text-align: right;\">\n",
       "      <th></th>\n",
       "      <th>comment_text</th>\n",
       "      <th>toxic</th>\n",
       "      <th>severe_toxic</th>\n",
       "      <th>obscene</th>\n",
       "      <th>threat</th>\n",
       "      <th>insult</th>\n",
       "      <th>identity_hate</th>\n",
       "    </tr>\n",
       "  </thead>\n",
       "  <tbody>\n",
       "    <tr>\n",
       "      <th>41</th>\n",
       "      <td>tfd thicagowpfour</td>\n",
       "      <td>0</td>\n",
       "      <td>0</td>\n",
       "      <td>0</td>\n",
       "      <td>0</td>\n",
       "      <td>0</td>\n",
       "      <td>0</td>\n",
       "    </tr>\n",
       "    <tr>\n",
       "      <th>74</th>\n",
       "      <td>whis well</td>\n",
       "      <td>0</td>\n",
       "      <td>0</td>\n",
       "      <td>0</td>\n",
       "      <td>0</td>\n",
       "      <td>0</td>\n",
       "      <td>0</td>\n",
       "    </tr>\n",
       "    <tr>\n",
       "      <th>89</th>\n",
       "      <td>thank read</td>\n",
       "      <td>0</td>\n",
       "      <td>0</td>\n",
       "      <td>0</td>\n",
       "      <td>0</td>\n",
       "      <td>0</td>\n",
       "      <td>0</td>\n",
       "    </tr>\n",
       "    <tr>\n",
       "      <th>137</th>\n",
       "      <td>imageyourtransitadjpg thing</td>\n",
       "      <td>0</td>\n",
       "      <td>0</td>\n",
       "      <td>0</td>\n",
       "      <td>0</td>\n",
       "      <td>0</td>\n",
       "      <td>0</td>\n",
       "    </tr>\n",
       "    <tr>\n",
       "      <th>138</th>\n",
       "      <td>cookie cookie</td>\n",
       "      <td>0</td>\n",
       "      <td>0</td>\n",
       "      <td>0</td>\n",
       "      <td>0</td>\n",
       "      <td>0</td>\n",
       "      <td>0</td>\n",
       "    </tr>\n",
       "    <tr>\n",
       "      <th>...</th>\n",
       "      <td>...</td>\n",
       "      <td>...</td>\n",
       "      <td>...</td>\n",
       "      <td>...</td>\n",
       "      <td>...</td>\n",
       "      <td>...</td>\n",
       "      <td>...</td>\n",
       "    </tr>\n",
       "    <tr>\n",
       "      <th>159472</th>\n",
       "      <td>ignore</td>\n",
       "      <td>0</td>\n",
       "      <td>0</td>\n",
       "      <td>0</td>\n",
       "      <td>0</td>\n",
       "      <td>0</td>\n",
       "      <td>0</td>\n",
       "    </tr>\n",
       "    <tr>\n",
       "      <th>159544</th>\n",
       "      <td>could worse</td>\n",
       "      <td>0</td>\n",
       "      <td>0</td>\n",
       "      <td>0</td>\n",
       "      <td>0</td>\n",
       "      <td>0</td>\n",
       "      <td>0</td>\n",
       "    </tr>\n",
       "    <tr>\n",
       "      <th>159547</th>\n",
       "      <td>thank much</td>\n",
       "      <td>0</td>\n",
       "      <td>0</td>\n",
       "      <td>0</td>\n",
       "      <td>0</td>\n",
       "      <td>0</td>\n",
       "      <td>0</td>\n",
       "    </tr>\n",
       "    <tr>\n",
       "      <th>159548</th>\n",
       "      <td>talkback september</td>\n",
       "      <td>0</td>\n",
       "      <td>0</td>\n",
       "      <td>0</td>\n",
       "      <td>0</td>\n",
       "      <td>0</td>\n",
       "      <td>0</td>\n",
       "    </tr>\n",
       "    <tr>\n",
       "      <th>159549</th>\n",
       "      <td>utc mar</td>\n",
       "      <td>0</td>\n",
       "      <td>0</td>\n",
       "      <td>0</td>\n",
       "      <td>0</td>\n",
       "      <td>0</td>\n",
       "      <td>0</td>\n",
       "    </tr>\n",
       "  </tbody>\n",
       "</table>\n",
       "<p>6230 rows × 7 columns</p>\n",
       "</div>"
      ],
      "text/plain": [
       "                       comment_text  toxic  severe_toxic  obscene  threat  \\\n",
       "41                tfd thicagowpfour      0             0        0       0   \n",
       "74                        whis well      0             0        0       0   \n",
       "89                       thank read      0             0        0       0   \n",
       "137     imageyourtransitadjpg thing      0             0        0       0   \n",
       "138                   cookie cookie      0             0        0       0   \n",
       "...                             ...    ...           ...      ...     ...   \n",
       "159472                       ignore      0             0        0       0   \n",
       "159544                  could worse      0             0        0       0   \n",
       "159547                   thank much      0             0        0       0   \n",
       "159548           talkback september      0             0        0       0   \n",
       "159549                      utc mar      0             0        0       0   \n",
       "\n",
       "        insult  identity_hate  \n",
       "41           0              0  \n",
       "74           0              0  \n",
       "89           0              0  \n",
       "137          0              0  \n",
       "138          0              0  \n",
       "...        ...            ...  \n",
       "159472       0              0  \n",
       "159544       0              0  \n",
       "159547       0              0  \n",
       "159548       0              0  \n",
       "159549       0              0  \n",
       "\n",
       "[6230 rows x 7 columns]"
      ]
     },
     "execution_count": 97,
     "metadata": {},
     "output_type": "execute_result"
    }
   ],
   "source": [
    "df.loc[lens < 3]"
   ]
  },
  {
   "cell_type": "markdown",
   "metadata": {},
   "source": [
    "# Model:"
   ]
  },
  {
   "cell_type": "code",
   "execution_count": 98,
   "metadata": {
    "execution": {
     "iopub.execute_input": "2022-09-11T16:46:32.521535Z",
     "iopub.status.busy": "2022-09-11T16:46:32.520886Z",
     "iopub.status.idle": "2022-09-11T16:46:32.566227Z",
     "shell.execute_reply": "2022-09-11T16:46:32.565211Z",
     "shell.execute_reply.started": "2022-09-11T16:46:32.521498Z"
    }
   },
   "outputs": [],
   "source": [
    "from sklearn.model_selection import train_test_split\n",
    "\n",
    "train, dev = train_test_split(df, test_size=0.10, random_state=42)"
   ]
  },
  {
   "cell_type": "code",
   "execution_count": 99,
   "metadata": {
    "execution": {
     "iopub.execute_input": "2022-09-11T16:46:32.568339Z",
     "iopub.status.busy": "2022-09-11T16:46:32.567946Z",
     "iopub.status.idle": "2022-09-11T16:46:49.593209Z",
     "shell.execute_reply": "2022-09-11T16:46:49.591994Z",
     "shell.execute_reply.started": "2022-09-11T16:46:32.568303Z"
    }
   },
   "outputs": [
    {
     "name": "stdout",
     "output_type": "stream",
     "text": [
      "(143613, 1000)\n",
      "(15958, 1000)\n"
     ]
    }
   ],
   "source": [
    "from tensorflow.keras.preprocessing.text import Tokenizer\n",
    "from tensorflow.keras.preprocessing.sequence import pad_sequences\n",
    "\n",
    "\n",
    "tokenizer = Tokenizer(num_words=1000, oov_token='<OOV>')\n",
    "tokenizer.fit_on_texts(train['comment_text'].values)\n",
    "\n",
    "# Extract binary BoW features\n",
    "x_train = tokenizer.texts_to_matrix(train['comment_text'].values, mode='tfidf')\n",
    "x_dev = tokenizer.texts_to_matrix(dev['comment_text'].values, mode='tfidf')\n",
    "\n",
    "# MAX_LEN = 150\n",
    "# x_train = pad_sequences(x_train, padding='post', truncating='post', maxlen=MAX_LEN)\n",
    "# x_dev = pad_sequences(x_dev, padding='post', truncating='post', maxlen=MAX_LEN)\n",
    "print(x_train.shape)\n",
    "print(x_dev.shape)"
   ]
  },
  {
   "cell_type": "code",
   "execution_count": 100,
   "metadata": {
    "execution": {
     "iopub.execute_input": "2022-09-11T16:46:49.594828Z",
     "iopub.status.busy": "2022-09-11T16:46:49.594468Z",
     "iopub.status.idle": "2022-09-11T16:46:49.609052Z",
     "shell.execute_reply": "2022-09-11T16:46:49.607534Z",
     "shell.execute_reply.started": "2022-09-11T16:46:49.594788Z"
    }
   },
   "outputs": [],
   "source": [
    "y_train = np.asarray(train[train.columns[1:]].values).astype('float32')\n",
    "y_dev = np.asarray(dev[dev.columns[1:]].values).astype('float32')"
   ]
  },
  {
   "cell_type": "code",
   "execution_count": 101,
   "metadata": {
    "execution": {
     "iopub.execute_input": "2022-09-11T16:46:49.611027Z",
     "iopub.status.busy": "2022-09-11T16:46:49.610623Z",
     "iopub.status.idle": "2022-09-11T16:47:14.601953Z",
     "shell.execute_reply": "2022-09-11T16:47:14.600517Z",
     "shell.execute_reply.started": "2022-09-11T16:46:49.610992Z"
    }
   },
   "outputs": [
    {
     "name": "stdout",
     "output_type": "stream",
     "text": [
      "Epoch 1/16\n",
      "281/281 [==============================] - 2s 5ms/step - loss: 0.1674 - binary_accuracy: 0.9529 - val_loss: 0.0765 - val_binary_accuracy: 0.9782\n",
      "Epoch 2/16\n",
      "281/281 [==============================] - 2s 7ms/step - loss: 0.0707 - binary_accuracy: 0.9788 - val_loss: 0.0672 - val_binary_accuracy: 0.9793\n",
      "Epoch 3/16\n",
      "281/281 [==============================] - 1s 5ms/step - loss: 0.0652 - binary_accuracy: 0.9793 - val_loss: 0.0654 - val_binary_accuracy: 0.9794\n",
      "Epoch 4/16\n",
      "281/281 [==============================] - 1s 5ms/step - loss: 0.0628 - binary_accuracy: 0.9797 - val_loss: 0.0644 - val_binary_accuracy: 0.9797\n",
      "Epoch 5/16\n",
      "281/281 [==============================] - 1s 4ms/step - loss: 0.0610 - binary_accuracy: 0.9800 - val_loss: 0.0640 - val_binary_accuracy: 0.9796\n",
      "Epoch 6/16\n",
      "281/281 [==============================] - 1s 5ms/step - loss: 0.0595 - binary_accuracy: 0.9804 - val_loss: 0.0640 - val_binary_accuracy: 0.9796\n",
      "Epoch 7/16\n",
      "281/281 [==============================] - 1s 5ms/step - loss: 0.0583 - binary_accuracy: 0.9805 - val_loss: 0.0643 - val_binary_accuracy: 0.9797\n",
      "Epoch 8/16\n",
      "281/281 [==============================] - 1s 5ms/step - loss: 0.0571 - binary_accuracy: 0.9809 - val_loss: 0.0647 - val_binary_accuracy: 0.9795\n",
      "Epoch 9/16\n",
      "281/281 [==============================] - 1s 5ms/step - loss: 0.0561 - binary_accuracy: 0.9811 - val_loss: 0.0654 - val_binary_accuracy: 0.9795\n",
      "Epoch 10/16\n",
      "281/281 [==============================] - 2s 6ms/step - loss: 0.0551 - binary_accuracy: 0.9814 - val_loss: 0.0656 - val_binary_accuracy: 0.9796\n",
      "Epoch 11/16\n",
      "281/281 [==============================] - 2s 6ms/step - loss: 0.0543 - binary_accuracy: 0.9815 - val_loss: 0.0663 - val_binary_accuracy: 0.9795\n",
      "Epoch 12/16\n",
      "281/281 [==============================] - 1s 5ms/step - loss: 0.0537 - binary_accuracy: 0.9817 - val_loss: 0.0667 - val_binary_accuracy: 0.9794\n",
      "Epoch 13/16\n",
      "281/281 [==============================] - 1s 5ms/step - loss: 0.0529 - binary_accuracy: 0.9819 - val_loss: 0.0677 - val_binary_accuracy: 0.9794\n",
      "Epoch 14/16\n",
      "281/281 [==============================] - 1s 5ms/step - loss: 0.0523 - binary_accuracy: 0.9820 - val_loss: 0.0678 - val_binary_accuracy: 0.9791\n",
      "Epoch 15/16\n",
      "281/281 [==============================] - 1s 5ms/step - loss: 0.0517 - binary_accuracy: 0.9822 - val_loss: 0.0692 - val_binary_accuracy: 0.9792\n",
      "Epoch 16/16\n",
      "281/281 [==============================] - 1s 5ms/step - loss: 0.0512 - binary_accuracy: 0.9824 - val_loss: 0.0699 - val_binary_accuracy: 0.9789\n"
     ]
    },
    {
     "data": {
      "text/plain": [
       "0.9504508890005979"
      ]
     },
     "execution_count": 101,
     "metadata": {},
     "output_type": "execute_result"
    }
   ],
   "source": [
    "from tensorflow.keras import models\n",
    "from tensorflow.keras import layers\n",
    "from tensorflow.keras import losses\n",
    "from tensorflow.keras import metrics\n",
    "from tensorflow.keras import optimizers\n",
    "from sklearn.metrics import roc_auc_score\n",
    "\n",
    "\n",
    "model = models.Sequential()\n",
    "model.add(layers.Dense(16, activation='relu', input_shape=(1000,)))\n",
    "model.add(layers.Dense(16, activation='relu'))\n",
    "model.add(layers.Dense(6, activation='sigmoid'))\n",
    "\n",
    "model.compile(optimizer=optimizers.Adam(),\n",
    "              loss=losses.binary_crossentropy,\n",
    "              metrics=[metrics.binary_accuracy])\n",
    "\n",
    "history = model.fit(x_train,\n",
    "                    y_train,\n",
    "                    epochs=16,\n",
    "                    batch_size=512,\n",
    "                    validation_data=(x_dev, y_dev))\n",
    "\n",
    "y_pred = model.predict(x_dev)\n",
    "roc_auc_score(y_dev, y_pred)"
   ]
  },
  {
   "cell_type": "code",
   "execution_count": 102,
   "metadata": {
    "execution": {
     "iopub.execute_input": "2022-09-11T16:47:14.604544Z",
     "iopub.status.busy": "2022-09-11T16:47:14.604020Z",
     "iopub.status.idle": "2022-09-11T16:47:14.610665Z",
     "shell.execute_reply": "2022-09-11T16:47:14.609233Z",
     "shell.execute_reply.started": "2022-09-11T16:47:14.604496Z"
    }
   },
   "outputs": [],
   "source": [
    "from sklearn.metrics import f1_score\n",
    "f1_score(y_dev[:, 0], y_pred[:, 0])\n",
    "f1_score(y_dev, np.round(y_pred), average=None)"
   ]
  },
  {
   "cell_type": "code",
   "execution_count": 103,
   "metadata": {
    "execution": {
     "iopub.execute_input": "2022-09-11T16:47:14.613189Z",
     "iopub.status.busy": "2022-09-11T16:47:14.612319Z",
     "iopub.status.idle": "2022-09-11T16:47:14.631883Z",
     "shell.execute_reply": "2022-09-11T16:47:14.630834Z",
     "shell.execute_reply.started": "2022-09-11T16:47:14.613123Z"
    }
   },
   "outputs": [
    {
     "data": {
      "text/plain": [
       "array([[9.9022895e-02, 1.8180609e-03, 4.3311715e-02, 7.1278214e-04,\n",
       "        1.4200807e-02, 3.5449862e-04],\n",
       "       [1.3950467e-04, 6.8799044e-10, 3.5911833e-07, 6.8661299e-09,\n",
       "        7.3461979e-07, 2.0443143e-09],\n",
       "       [1.2247470e-01, 2.3311377e-04, 1.2225002e-02, 1.4248490e-04,\n",
       "        3.7054807e-02, 1.5891492e-03],\n",
       "       ...,\n",
       "       [1.1703491e-02, 4.1762516e-05, 5.0069690e-03, 5.1900741e-05,\n",
       "        4.1786134e-03, 1.2558699e-04],\n",
       "       [3.8721308e-05, 4.2085966e-09, 4.0661358e-05, 2.1445108e-10,\n",
       "        3.5486207e-07, 1.5779210e-11],\n",
       "       [7.2140533e-01, 5.7512254e-02, 3.6449772e-01, 8.9571625e-02,\n",
       "        1.7047125e-01, 3.5415709e-01]], dtype=float32)"
      ]
     },
     "execution_count": 103,
     "metadata": {},
     "output_type": "execute_result"
    }
   ],
   "source": [
    "y_pred"
   ]
  },
  {
   "cell_type": "code",
   "execution_count": 104,
   "metadata": {
    "execution": {
     "iopub.execute_input": "2022-09-11T16:47:14.634599Z",
     "iopub.status.busy": "2022-09-11T16:47:14.634023Z",
     "iopub.status.idle": "2022-09-11T16:47:16.098609Z",
     "shell.execute_reply": "2022-09-11T16:47:16.097431Z",
     "shell.execute_reply.started": "2022-09-11T16:47:14.634563Z"
    }
   },
   "outputs": [
    {
     "data": {
      "text/html": [
       "<div>\n",
       "<style scoped>\n",
       "    .dataframe tbody tr th:only-of-type {\n",
       "        vertical-align: middle;\n",
       "    }\n",
       "\n",
       "    .dataframe tbody tr th {\n",
       "        vertical-align: top;\n",
       "    }\n",
       "\n",
       "    .dataframe thead th {\n",
       "        text-align: right;\n",
       "    }\n",
       "</style>\n",
       "<table border=\"1\" class=\"dataframe\">\n",
       "  <thead>\n",
       "    <tr style=\"text-align: right;\">\n",
       "      <th></th>\n",
       "      <th>id</th>\n",
       "      <th>comment_text</th>\n",
       "    </tr>\n",
       "  </thead>\n",
       "  <tbody>\n",
       "    <tr>\n",
       "      <th>0</th>\n",
       "      <td>00001cee341fdb12</td>\n",
       "      <td>Yo bitch Ja Rule is more succesful then you'll...</td>\n",
       "    </tr>\n",
       "    <tr>\n",
       "      <th>1</th>\n",
       "      <td>0000247867823ef7</td>\n",
       "      <td>== From RfC == \\n\\n The title is fine as it is...</td>\n",
       "    </tr>\n",
       "    <tr>\n",
       "      <th>2</th>\n",
       "      <td>00013b17ad220c46</td>\n",
       "      <td>\" \\n\\n == Sources == \\n\\n * Zawe Ashton on Lap...</td>\n",
       "    </tr>\n",
       "    <tr>\n",
       "      <th>3</th>\n",
       "      <td>00017563c3f7919a</td>\n",
       "      <td>:If you have a look back at the source, the in...</td>\n",
       "    </tr>\n",
       "    <tr>\n",
       "      <th>4</th>\n",
       "      <td>00017695ad8997eb</td>\n",
       "      <td>I don't anonymously edit articles at all.</td>\n",
       "    </tr>\n",
       "  </tbody>\n",
       "</table>\n",
       "</div>"
      ],
      "text/plain": [
       "                 id                                       comment_text\n",
       "0  00001cee341fdb12  Yo bitch Ja Rule is more succesful then you'll...\n",
       "1  0000247867823ef7  == From RfC == \\n\\n The title is fine as it is...\n",
       "2  00013b17ad220c46  \" \\n\\n == Sources == \\n\\n * Zawe Ashton on Lap...\n",
       "3  00017563c3f7919a  :If you have a look back at the source, the in...\n",
       "4  00017695ad8997eb          I don't anonymously edit articles at all."
      ]
     },
     "execution_count": 104,
     "metadata": {},
     "output_type": "execute_result"
    }
   ],
   "source": [
    "test_df = pd.read_csv('../input/jigsaw-toxic-comment-classification-challenge/test.csv.zip')\n",
    "test_df.head()\n"
   ]
  },
  {
   "cell_type": "code",
   "execution_count": 105,
   "metadata": {
    "execution": {
     "iopub.execute_input": "2022-09-11T16:47:16.103891Z",
     "iopub.status.busy": "2022-09-11T16:47:16.103483Z",
     "iopub.status.idle": "2022-09-11T16:48:34.749389Z",
     "shell.execute_reply": "2022-09-11T16:48:34.748106Z",
     "shell.execute_reply.started": "2022-09-11T16:47:16.103856Z"
    }
   },
   "outputs": [
    {
     "data": {
      "text/html": [
       "<div>\n",
       "<style scoped>\n",
       "    .dataframe tbody tr th:only-of-type {\n",
       "        vertical-align: middle;\n",
       "    }\n",
       "\n",
       "    .dataframe tbody tr th {\n",
       "        vertical-align: top;\n",
       "    }\n",
       "\n",
       "    .dataframe thead th {\n",
       "        text-align: right;\n",
       "    }\n",
       "</style>\n",
       "<table border=\"1\" class=\"dataframe\">\n",
       "  <thead>\n",
       "    <tr style=\"text-align: right;\">\n",
       "      <th></th>\n",
       "      <th>id</th>\n",
       "      <th>comment_text</th>\n",
       "    </tr>\n",
       "  </thead>\n",
       "  <tbody>\n",
       "    <tr>\n",
       "      <th>0</th>\n",
       "      <td>00001cee341fdb12</td>\n",
       "      <td>yo bitch ja rule succesful youll ever whats ha...</td>\n",
       "    </tr>\n",
       "    <tr>\n",
       "      <th>1</th>\n",
       "      <td>0000247867823ef7</td>\n",
       "      <td>rfc title fine imo</td>\n",
       "    </tr>\n",
       "    <tr>\n",
       "      <th>2</th>\n",
       "      <td>00013b17ad220c46</td>\n",
       "      <td>source zawe ashton lapland</td>\n",
       "    </tr>\n",
       "    <tr>\n",
       "      <th>3</th>\n",
       "      <td>00017563c3f7919a</td>\n",
       "      <td>look back source information update correct fo...</td>\n",
       "    </tr>\n",
       "    <tr>\n",
       "      <th>4</th>\n",
       "      <td>00017695ad8997eb</td>\n",
       "      <td>dont anonymously edit article</td>\n",
       "    </tr>\n",
       "  </tbody>\n",
       "</table>\n",
       "</div>"
      ],
      "text/plain": [
       "                 id                                       comment_text\n",
       "0  00001cee341fdb12  yo bitch ja rule succesful youll ever whats ha...\n",
       "1  0000247867823ef7                                 rfc title fine imo\n",
       "2  00013b17ad220c46                         source zawe ashton lapland\n",
       "3  00017563c3f7919a  look back source information update correct fo...\n",
       "4  00017695ad8997eb                      dont anonymously edit article"
      ]
     },
     "execution_count": 105,
     "metadata": {},
     "output_type": "execute_result"
    }
   ],
   "source": [
    "test_df['comment_text'] = test_df['comment_text'].apply(clean_text)\n",
    "test_df.head()"
   ]
  },
  {
   "cell_type": "code",
   "execution_count": 106,
   "metadata": {
    "execution": {
     "iopub.execute_input": "2022-09-11T16:48:34.754194Z",
     "iopub.status.busy": "2022-09-11T16:48:34.752866Z",
     "iopub.status.idle": "2022-09-11T16:48:52.573531Z",
     "shell.execute_reply": "2022-09-11T16:48:52.572271Z",
     "shell.execute_reply.started": "2022-09-11T16:48:34.754142Z"
    }
   },
   "outputs": [],
   "source": [
    "x_test = tokenizer.texts_to_matrix(test_df['comment_text'].values, mode='tfidf')\n",
    "y_test = model.predict(x_test)"
   ]
  },
  {
   "cell_type": "code",
   "execution_count": 107,
   "metadata": {
    "execution": {
     "iopub.execute_input": "2022-09-11T16:48:52.576245Z",
     "iopub.status.busy": "2022-09-11T16:48:52.575764Z",
     "iopub.status.idle": "2022-09-11T16:48:52.604238Z",
     "shell.execute_reply": "2022-09-11T16:48:52.602985Z",
     "shell.execute_reply.started": "2022-09-11T16:48:52.576199Z"
    }
   },
   "outputs": [
    {
     "data": {
      "text/html": [
       "<div>\n",
       "<style scoped>\n",
       "    .dataframe tbody tr th:only-of-type {\n",
       "        vertical-align: middle;\n",
       "    }\n",
       "\n",
       "    .dataframe tbody tr th {\n",
       "        vertical-align: top;\n",
       "    }\n",
       "\n",
       "    .dataframe thead th {\n",
       "        text-align: right;\n",
       "    }\n",
       "</style>\n",
       "<table border=\"1\" class=\"dataframe\">\n",
       "  <thead>\n",
       "    <tr style=\"text-align: right;\">\n",
       "      <th></th>\n",
       "      <th>id</th>\n",
       "      <th>comment_text</th>\n",
       "      <th>toxic</th>\n",
       "      <th>severe_toxic</th>\n",
       "      <th>obscene</th>\n",
       "      <th>threat</th>\n",
       "      <th>insult</th>\n",
       "      <th>identity_hate</th>\n",
       "    </tr>\n",
       "  </thead>\n",
       "  <tbody>\n",
       "    <tr>\n",
       "      <th>0</th>\n",
       "      <td>00001cee341fdb12</td>\n",
       "      <td>yo bitch ja rule succesful youll ever whats ha...</td>\n",
       "      <td>0.993392</td>\n",
       "      <td>1.127429e-01</td>\n",
       "      <td>0.980034</td>\n",
       "      <td>1.254067e-02</td>\n",
       "      <td>7.605283e-01</td>\n",
       "      <td>1.569945e-02</td>\n",
       "    </tr>\n",
       "    <tr>\n",
       "      <th>1</th>\n",
       "      <td>0000247867823ef7</td>\n",
       "      <td>rfc title fine imo</td>\n",
       "      <td>0.000023</td>\n",
       "      <td>2.612152e-08</td>\n",
       "      <td>0.000001</td>\n",
       "      <td>3.398210e-07</td>\n",
       "      <td>4.842772e-07</td>\n",
       "      <td>1.890621e-08</td>\n",
       "    </tr>\n",
       "    <tr>\n",
       "      <th>2</th>\n",
       "      <td>00013b17ad220c46</td>\n",
       "      <td>source zawe ashton lapland</td>\n",
       "      <td>0.029046</td>\n",
       "      <td>7.559359e-04</td>\n",
       "      <td>0.010103</td>\n",
       "      <td>9.334385e-04</td>\n",
       "      <td>1.030165e-02</td>\n",
       "      <td>1.750678e-03</td>\n",
       "    </tr>\n",
       "    <tr>\n",
       "      <th>3</th>\n",
       "      <td>00017563c3f7919a</td>\n",
       "      <td>look back source information update correct fo...</td>\n",
       "      <td>0.000606</td>\n",
       "      <td>3.178848e-06</td>\n",
       "      <td>0.000037</td>\n",
       "      <td>2.677271e-05</td>\n",
       "      <td>1.393990e-05</td>\n",
       "      <td>4.365696e-06</td>\n",
       "    </tr>\n",
       "    <tr>\n",
       "      <th>4</th>\n",
       "      <td>00017695ad8997eb</td>\n",
       "      <td>dont anonymously edit article</td>\n",
       "      <td>0.068591</td>\n",
       "      <td>1.294792e-03</td>\n",
       "      <td>0.022030</td>\n",
       "      <td>1.747459e-03</td>\n",
       "      <td>2.152342e-02</td>\n",
       "      <td>3.249317e-03</td>\n",
       "    </tr>\n",
       "  </tbody>\n",
       "</table>\n",
       "</div>"
      ],
      "text/plain": [
       "                 id                                       comment_text  \\\n",
       "0  00001cee341fdb12  yo bitch ja rule succesful youll ever whats ha...   \n",
       "1  0000247867823ef7                                 rfc title fine imo   \n",
       "2  00013b17ad220c46                         source zawe ashton lapland   \n",
       "3  00017563c3f7919a  look back source information update correct fo...   \n",
       "4  00017695ad8997eb                      dont anonymously edit article   \n",
       "\n",
       "      toxic  severe_toxic   obscene        threat        insult  identity_hate  \n",
       "0  0.993392  1.127429e-01  0.980034  1.254067e-02  7.605283e-01   1.569945e-02  \n",
       "1  0.000023  2.612152e-08  0.000001  3.398210e-07  4.842772e-07   1.890621e-08  \n",
       "2  0.029046  7.559359e-04  0.010103  9.334385e-04  1.030165e-02   1.750678e-03  \n",
       "3  0.000606  3.178848e-06  0.000037  2.677271e-05  1.393990e-05   4.365696e-06  \n",
       "4  0.068591  1.294792e-03  0.022030  1.747459e-03  2.152342e-02   3.249317e-03  "
      ]
     },
     "execution_count": 107,
     "metadata": {},
     "output_type": "execute_result"
    }
   ],
   "source": [
    "result_df = pd.DataFrame(data=y_test, columns=df.columns[1:])\n",
    "df_sub = pd.concat([test_df, result_df], axis=1)\n",
    "df_sub.head()"
   ]
  },
  {
   "cell_type": "code",
   "execution_count": 108,
   "metadata": {
    "execution": {
     "iopub.execute_input": "2022-09-11T16:48:52.606562Z",
     "iopub.status.busy": "2022-09-11T16:48:52.605591Z",
     "iopub.status.idle": "2022-09-11T16:48:52.629847Z",
     "shell.execute_reply": "2022-09-11T16:48:52.628815Z",
     "shell.execute_reply.started": "2022-09-11T16:48:52.606524Z"
    }
   },
   "outputs": [
    {
     "data": {
      "text/html": [
       "<div>\n",
       "<style scoped>\n",
       "    .dataframe tbody tr th:only-of-type {\n",
       "        vertical-align: middle;\n",
       "    }\n",
       "\n",
       "    .dataframe tbody tr th {\n",
       "        vertical-align: top;\n",
       "    }\n",
       "\n",
       "    .dataframe thead th {\n",
       "        text-align: right;\n",
       "    }\n",
       "</style>\n",
       "<table border=\"1\" class=\"dataframe\">\n",
       "  <thead>\n",
       "    <tr style=\"text-align: right;\">\n",
       "      <th></th>\n",
       "      <th>id</th>\n",
       "      <th>toxic</th>\n",
       "      <th>severe_toxic</th>\n",
       "      <th>obscene</th>\n",
       "      <th>threat</th>\n",
       "      <th>insult</th>\n",
       "      <th>identity_hate</th>\n",
       "    </tr>\n",
       "  </thead>\n",
       "  <tbody>\n",
       "    <tr>\n",
       "      <th>0</th>\n",
       "      <td>00001cee341fdb12</td>\n",
       "      <td>0.993392</td>\n",
       "      <td>1.127429e-01</td>\n",
       "      <td>0.980034</td>\n",
       "      <td>1.254067e-02</td>\n",
       "      <td>7.605283e-01</td>\n",
       "      <td>1.569945e-02</td>\n",
       "    </tr>\n",
       "    <tr>\n",
       "      <th>1</th>\n",
       "      <td>0000247867823ef7</td>\n",
       "      <td>0.000023</td>\n",
       "      <td>2.612152e-08</td>\n",
       "      <td>0.000001</td>\n",
       "      <td>3.398210e-07</td>\n",
       "      <td>4.842772e-07</td>\n",
       "      <td>1.890621e-08</td>\n",
       "    </tr>\n",
       "    <tr>\n",
       "      <th>2</th>\n",
       "      <td>00013b17ad220c46</td>\n",
       "      <td>0.029046</td>\n",
       "      <td>7.559359e-04</td>\n",
       "      <td>0.010103</td>\n",
       "      <td>9.334385e-04</td>\n",
       "      <td>1.030165e-02</td>\n",
       "      <td>1.750678e-03</td>\n",
       "    </tr>\n",
       "    <tr>\n",
       "      <th>3</th>\n",
       "      <td>00017563c3f7919a</td>\n",
       "      <td>0.000606</td>\n",
       "      <td>3.178848e-06</td>\n",
       "      <td>0.000037</td>\n",
       "      <td>2.677271e-05</td>\n",
       "      <td>1.393990e-05</td>\n",
       "      <td>4.365696e-06</td>\n",
       "    </tr>\n",
       "    <tr>\n",
       "      <th>4</th>\n",
       "      <td>00017695ad8997eb</td>\n",
       "      <td>0.068591</td>\n",
       "      <td>1.294792e-03</td>\n",
       "      <td>0.022030</td>\n",
       "      <td>1.747459e-03</td>\n",
       "      <td>2.152342e-02</td>\n",
       "      <td>3.249317e-03</td>\n",
       "    </tr>\n",
       "  </tbody>\n",
       "</table>\n",
       "</div>"
      ],
      "text/plain": [
       "                 id     toxic  severe_toxic   obscene        threat  \\\n",
       "0  00001cee341fdb12  0.993392  1.127429e-01  0.980034  1.254067e-02   \n",
       "1  0000247867823ef7  0.000023  2.612152e-08  0.000001  3.398210e-07   \n",
       "2  00013b17ad220c46  0.029046  7.559359e-04  0.010103  9.334385e-04   \n",
       "3  00017563c3f7919a  0.000606  3.178848e-06  0.000037  2.677271e-05   \n",
       "4  00017695ad8997eb  0.068591  1.294792e-03  0.022030  1.747459e-03   \n",
       "\n",
       "         insult  identity_hate  \n",
       "0  7.605283e-01   1.569945e-02  \n",
       "1  4.842772e-07   1.890621e-08  \n",
       "2  1.030165e-02   1.750678e-03  \n",
       "3  1.393990e-05   4.365696e-06  \n",
       "4  2.152342e-02   3.249317e-03  "
      ]
     },
     "execution_count": 108,
     "metadata": {},
     "output_type": "execute_result"
    }
   ],
   "source": [
    "df_sub = df_sub.drop(columns=['comment_text'])\n",
    "df_sub.head()"
   ]
  },
  {
   "cell_type": "code",
   "execution_count": 109,
   "metadata": {
    "execution": {
     "iopub.execute_input": "2022-09-11T16:48:52.632412Z",
     "iopub.status.busy": "2022-09-11T16:48:52.631014Z",
     "iopub.status.idle": "2022-09-11T16:48:53.788785Z",
     "shell.execute_reply": "2022-09-11T16:48:53.787728Z",
     "shell.execute_reply.started": "2022-09-11T16:48:52.632364Z"
    }
   },
   "outputs": [],
   "source": [
    "df_sub.to_csv('submission.csv', index=False)"
   ]
  },
  {
   "cell_type": "code",
   "execution_count": null,
   "metadata": {},
   "outputs": [],
   "source": []
  }
 ],
 "metadata": {
  "kernelspec": {
   "display_name": "Python 3 (ipykernel)",
   "language": "python",
   "name": "python3"
  },
  "language_info": {
   "codemirror_mode": {
    "name": "ipython",
    "version": 3
   },
   "file_extension": ".py",
   "mimetype": "text/x-python",
   "name": "python",
   "nbconvert_exporter": "python",
   "pygments_lexer": "ipython3",
   "version": "3.8.10"
  }
 },
 "nbformat": 4,
 "nbformat_minor": 4
}
